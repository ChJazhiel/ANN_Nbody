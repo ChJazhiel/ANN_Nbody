{
 "cells": [
  {
   "cell_type": "markdown",
   "id": "5685f17d",
   "metadata": {},
   "source": [
    "# This notebook implements Deep learning techniques for a particle-in-halo classification framework. \n",
    "\n",
    "Reference with random forest: [ChJazhiel notebook](https://github.com/ChJazhiel/ML_ICF/blob/master/RF_Particles_z23.ipynb)"
   ]
  },
  {
   "cell_type": "code",
   "execution_count": 1,
   "id": "90d76f95",
   "metadata": {},
   "outputs": [
    {
     "name": "stderr",
     "output_type": "stream",
     "text": [
      "2022-05-19 09:45:55.520381: W tensorflow/stream_executor/platform/default/dso_loader.cc:64] Could not load dynamic library 'libcudart.so.11.0'; dlerror: libcudart.so.11.0: cannot open shared object file: No such file or directory; LD_LIBRARY_PATH: /home/isidro/cfitsio/lib:/home/isidro/MultiNest/lib:/home/isidro/cuba/:LD_LIBRARY_PATH:/home/isidro/.openmpi/lib/:/lib\n",
      "2022-05-19 09:45:55.520420: I tensorflow/stream_executor/cuda/cudart_stub.cc:29] Ignore above cudart dlerror if you do not have a GPU set up on your machine.\n"
     ]
    }
   ],
   "source": [
    "import numpy as np\n",
    "import seaborn as sns\n",
    "import matplotlib.pyplot as plt\n",
    "from matplotlib.ticker import AutoMinorLocator\n",
    "import pandas as pd\n",
    "\n",
    "from sklearn import metrics\n",
    "from sklearn.metrics import confusion_matrix\n",
    "from sklearn.utils.multiclass import unique_labels\n",
    "from sklearn.model_selection import cross_val_score\n",
    "from sklearn.metrics import precision_recall_curve\n",
    "from sklearn.metrics import f1_score\n",
    "from sklearn.ensemble import RandomForestClassifier\n",
    "from sklearn.tree import DecisionTreeClassifier\n",
    "from sklearn.model_selection import train_test_split\n",
    "from sklearn.model_selection import cross_val_score\n",
    "from sklearn.metrics import precision_recall_curve\n",
    "from sklearn.metrics import f1_score\n",
    "from sklearn.feature_selection import SelectFromModel\n",
    "from sklearn.feature_selection import f_classif\n",
    "from sklearn.feature_selection import SelectKBest\n",
    "from sklearn.feature_selection import mutual_info_classif\n",
    "from sklearn.model_selection import StratifiedKFold\n",
    "from sklearn.model_selection import RepeatedStratifiedKFold\n",
    "from sklearn.preprocessing import StandardScaler, MinMaxScaler\n",
    "from sklearn.model_selection import RandomizedSearchCV, KFold\n",
    "# from sklearn.pipeline import Pipeline\n",
    "from keras.wrappers.scikit_learn import KerasClassifier\n",
    "\n",
    "import tensorflow as tf\n",
    "from tensorflow.keras.layers import Dense, Flatten, Conv2D\n",
    "from tensorflow.keras import Model\n",
    "from tensorflow.keras import layers\n",
    "from tensorflow.keras import models\n",
    "from tensorflow.keras import optimizers\n",
    "from tensorflow.keras import losses\n",
    "\n",
    "%matplotlib inline\n",
    "\n",
    "# workdirectory = '/home/jazhiel/ML_Notebooks/Cosmology_ML/'\n",
    "workdirectory = ''"
   ]
  },
  {
   "cell_type": "markdown",
   "id": "9463edce",
   "metadata": {},
   "source": [
    "## Import our dataset "
   ]
  },
  {
   "cell_type": "code",
   "execution_count": 2,
   "id": "c8611873",
   "metadata": {},
   "outputs": [
    {
     "name": "stdout",
     "output_type": "stream",
     "text": [
      "[-1.00000000e+00  2.72242898e+13  1.13894322e+13 ... -1.00000000e+00\n",
      " -1.00000000e+00 -1.00000000e+00]\n",
      "289964\n"
     ]
    }
   ],
   "source": [
    "data_dict = np.load(workdirectory + 'OUTFILE1M.npz') #np.load('/path/to/nbody/outfile.npz')\n",
    "test_flags  = data_dict['test_flags'] ## not important\n",
    "test_hosts  = data_dict['test_hosts'] ### somewhat relevant\n",
    "test_mass   = data_dict['test_mass'] ## important\n",
    "test_labels = data_dict['test_labels'] ## important\n",
    "test_input  = data_dict['test_input'] ## very important\n",
    "#test_snid   = dict_data['test_snid']\n",
    "#test_labels = dict_data['test_labels']\n",
    "print(test_mass) ## Here I want to check how is the halo mass matrix composed of, the -1 means the halo \n",
    "#is not in our range of 10^12-10^13 M_sun\n",
    "print(np.sum(test_labels)) ## Here I want to check how many label \"1\" do we have"
   ]
  },
  {
   "cell_type": "markdown",
   "id": "294f585b",
   "metadata": {},
   "source": [
    "## Data preprocessing"
   ]
  },
  {
   "cell_type": "code",
   "execution_count": 3,
   "id": "5e5683e5",
   "metadata": {},
   "outputs": [],
   "source": [
    "### here we create or 10 vector dataset, I wonder if by adding some other information the classification will be better\n",
    "### adding mass is not helpful, the classifier is perfect in that regard\n",
    "dr1 = pd.DataFrame(test_input[0], columns = ['dr1'])\n",
    "dr2 = pd.DataFrame(test_input[1], columns = ['dr2'])\n",
    "dr3 = pd.DataFrame(test_input[2], columns = ['dr3'])\n",
    "dr4 = pd.DataFrame(test_input[3], columns = ['dr4'])\n",
    "dr5 = pd.DataFrame(test_input[4], columns = ['dr5'])\n",
    "dr6 = pd.DataFrame(test_input[5], columns = ['dr6'])\n",
    "dr7 = pd.DataFrame(test_input[6], columns = ['dr7'])\n",
    "dr8 = pd.DataFrame(test_input[7], columns = ['dr8'])\n",
    "dr9 = pd.DataFrame(test_input[8], columns = ['dr9'])\n",
    "dr10 = pd.DataFrame(test_input[9], columns = ['dr10'])\n",
    "#mass = pd.DataFrame(test_mass, columns = ['Halo_Mass'])\n",
    "lbl = pd.DataFrame(test_labels, columns =['labels'])"
   ]
  },
  {
   "cell_type": "markdown",
   "id": "c4b35048",
   "metadata": {},
   "source": [
    "## Select all features and create dataframe"
   ]
  },
  {
   "cell_type": "code",
   "execution_count": 4,
   "id": "4a8ae1b4",
   "metadata": {},
   "outputs": [
    {
     "data": {
      "text/html": [
       "<div>\n",
       "<style scoped>\n",
       "    .dataframe tbody tr th:only-of-type {\n",
       "        vertical-align: middle;\n",
       "    }\n",
       "\n",
       "    .dataframe tbody tr th {\n",
       "        vertical-align: top;\n",
       "    }\n",
       "\n",
       "    .dataframe thead th {\n",
       "        text-align: right;\n",
       "    }\n",
       "</style>\n",
       "<table border=\"1\" class=\"dataframe\">\n",
       "  <thead>\n",
       "    <tr style=\"text-align: right;\">\n",
       "      <th></th>\n",
       "      <th>dr1</th>\n",
       "      <th>dr2</th>\n",
       "      <th>dr3</th>\n",
       "      <th>dr4</th>\n",
       "      <th>dr5</th>\n",
       "      <th>dr6</th>\n",
       "      <th>dr7</th>\n",
       "      <th>dr8</th>\n",
       "      <th>dr9</th>\n",
       "      <th>dr10</th>\n",
       "      <th>labels</th>\n",
       "    </tr>\n",
       "  </thead>\n",
       "  <tbody>\n",
       "    <tr>\n",
       "      <th>0</th>\n",
       "      <td>-0.209889</td>\n",
       "      <td>-0.187730</td>\n",
       "      <td>-0.169542</td>\n",
       "      <td>-0.155964</td>\n",
       "      <td>-0.100744</td>\n",
       "      <td>-0.049741</td>\n",
       "      <td>-0.011099</td>\n",
       "      <td>-0.010984</td>\n",
       "      <td>-0.002834</td>\n",
       "      <td>0.024089</td>\n",
       "      <td>0</td>\n",
       "    </tr>\n",
       "    <tr>\n",
       "      <th>1</th>\n",
       "      <td>0.364046</td>\n",
       "      <td>0.430008</td>\n",
       "      <td>0.453121</td>\n",
       "      <td>0.450021</td>\n",
       "      <td>0.374578</td>\n",
       "      <td>0.309706</td>\n",
       "      <td>0.240559</td>\n",
       "      <td>0.190503</td>\n",
       "      <td>0.174401</td>\n",
       "      <td>0.176335</td>\n",
       "      <td>1</td>\n",
       "    </tr>\n",
       "    <tr>\n",
       "      <th>2</th>\n",
       "      <td>0.311775</td>\n",
       "      <td>0.254511</td>\n",
       "      <td>0.227109</td>\n",
       "      <td>0.215286</td>\n",
       "      <td>0.148460</td>\n",
       "      <td>0.112097</td>\n",
       "      <td>0.090454</td>\n",
       "      <td>0.058546</td>\n",
       "      <td>0.035873</td>\n",
       "      <td>0.043613</td>\n",
       "      <td>1</td>\n",
       "    </tr>\n",
       "    <tr>\n",
       "      <th>3</th>\n",
       "      <td>0.033877</td>\n",
       "      <td>0.051836</td>\n",
       "      <td>0.065151</td>\n",
       "      <td>0.073930</td>\n",
       "      <td>0.100935</td>\n",
       "      <td>0.100271</td>\n",
       "      <td>0.094132</td>\n",
       "      <td>0.080007</td>\n",
       "      <td>0.059981</td>\n",
       "      <td>0.032160</td>\n",
       "      <td>0</td>\n",
       "    </tr>\n",
       "    <tr>\n",
       "      <th>4</th>\n",
       "      <td>-0.355428</td>\n",
       "      <td>-0.330448</td>\n",
       "      <td>-0.306125</td>\n",
       "      <td>-0.291701</td>\n",
       "      <td>-0.253399</td>\n",
       "      <td>-0.215256</td>\n",
       "      <td>-0.163749</td>\n",
       "      <td>-0.124680</td>\n",
       "      <td>-0.080408</td>\n",
       "      <td>-0.051999</td>\n",
       "      <td>0</td>\n",
       "    </tr>\n",
       "    <tr>\n",
       "      <th>...</th>\n",
       "      <td>...</td>\n",
       "      <td>...</td>\n",
       "      <td>...</td>\n",
       "      <td>...</td>\n",
       "      <td>...</td>\n",
       "      <td>...</td>\n",
       "      <td>...</td>\n",
       "      <td>...</td>\n",
       "      <td>...</td>\n",
       "      <td>...</td>\n",
       "      <td>...</td>\n",
       "    </tr>\n",
       "    <tr>\n",
       "      <th>999995</th>\n",
       "      <td>0.022223</td>\n",
       "      <td>0.034349</td>\n",
       "      <td>0.046298</td>\n",
       "      <td>0.047812</td>\n",
       "      <td>0.027945</td>\n",
       "      <td>0.018082</td>\n",
       "      <td>0.012005</td>\n",
       "      <td>0.015623</td>\n",
       "      <td>0.028762</td>\n",
       "      <td>0.036779</td>\n",
       "      <td>0</td>\n",
       "    </tr>\n",
       "    <tr>\n",
       "      <th>999996</th>\n",
       "      <td>-0.178963</td>\n",
       "      <td>-0.188312</td>\n",
       "      <td>-0.189045</td>\n",
       "      <td>-0.187326</td>\n",
       "      <td>-0.182576</td>\n",
       "      <td>-0.170714</td>\n",
       "      <td>-0.155041</td>\n",
       "      <td>-0.143078</td>\n",
       "      <td>-0.136640</td>\n",
       "      <td>-0.120222</td>\n",
       "      <td>0</td>\n",
       "    </tr>\n",
       "    <tr>\n",
       "      <th>999997</th>\n",
       "      <td>-0.164632</td>\n",
       "      <td>-0.113120</td>\n",
       "      <td>-0.076089</td>\n",
       "      <td>-0.061724</td>\n",
       "      <td>0.009549</td>\n",
       "      <td>0.039809</td>\n",
       "      <td>0.057906</td>\n",
       "      <td>0.041327</td>\n",
       "      <td>0.010610</td>\n",
       "      <td>-0.020231</td>\n",
       "      <td>0</td>\n",
       "    </tr>\n",
       "    <tr>\n",
       "      <th>999998</th>\n",
       "      <td>-0.039698</td>\n",
       "      <td>0.063765</td>\n",
       "      <td>0.118363</td>\n",
       "      <td>0.140928</td>\n",
       "      <td>0.152761</td>\n",
       "      <td>0.125845</td>\n",
       "      <td>0.114529</td>\n",
       "      <td>0.113929</td>\n",
       "      <td>0.107155</td>\n",
       "      <td>0.098008</td>\n",
       "      <td>0</td>\n",
       "    </tr>\n",
       "    <tr>\n",
       "      <th>999999</th>\n",
       "      <td>0.153398</td>\n",
       "      <td>0.110778</td>\n",
       "      <td>0.080120</td>\n",
       "      <td>0.065841</td>\n",
       "      <td>0.043615</td>\n",
       "      <td>0.033935</td>\n",
       "      <td>0.012979</td>\n",
       "      <td>-0.002245</td>\n",
       "      <td>-0.008278</td>\n",
       "      <td>-0.021117</td>\n",
       "      <td>0</td>\n",
       "    </tr>\n",
       "  </tbody>\n",
       "</table>\n",
       "<p>1000000 rows × 11 columns</p>\n",
       "</div>"
      ],
      "text/plain": [
       "             dr1       dr2       dr3       dr4       dr5       dr6       dr7  \\\n",
       "0      -0.209889 -0.187730 -0.169542 -0.155964 -0.100744 -0.049741 -0.011099   \n",
       "1       0.364046  0.430008  0.453121  0.450021  0.374578  0.309706  0.240559   \n",
       "2       0.311775  0.254511  0.227109  0.215286  0.148460  0.112097  0.090454   \n",
       "3       0.033877  0.051836  0.065151  0.073930  0.100935  0.100271  0.094132   \n",
       "4      -0.355428 -0.330448 -0.306125 -0.291701 -0.253399 -0.215256 -0.163749   \n",
       "...          ...       ...       ...       ...       ...       ...       ...   \n",
       "999995  0.022223  0.034349  0.046298  0.047812  0.027945  0.018082  0.012005   \n",
       "999996 -0.178963 -0.188312 -0.189045 -0.187326 -0.182576 -0.170714 -0.155041   \n",
       "999997 -0.164632 -0.113120 -0.076089 -0.061724  0.009549  0.039809  0.057906   \n",
       "999998 -0.039698  0.063765  0.118363  0.140928  0.152761  0.125845  0.114529   \n",
       "999999  0.153398  0.110778  0.080120  0.065841  0.043615  0.033935  0.012979   \n",
       "\n",
       "             dr8       dr9      dr10  labels  \n",
       "0      -0.010984 -0.002834  0.024089       0  \n",
       "1       0.190503  0.174401  0.176335       1  \n",
       "2       0.058546  0.035873  0.043613       1  \n",
       "3       0.080007  0.059981  0.032160       0  \n",
       "4      -0.124680 -0.080408 -0.051999       0  \n",
       "...          ...       ...       ...     ...  \n",
       "999995  0.015623  0.028762  0.036779       0  \n",
       "999996 -0.143078 -0.136640 -0.120222       0  \n",
       "999997  0.041327  0.010610 -0.020231       0  \n",
       "999998  0.113929  0.107155  0.098008       0  \n",
       "999999 -0.002245 -0.008278 -0.021117       0  \n",
       "\n",
       "[1000000 rows x 11 columns]"
      ]
     },
     "execution_count": 4,
     "metadata": {},
     "output_type": "execute_result"
    }
   ],
   "source": [
    "df = pd.concat([dr1, dr2, dr3, dr4, dr5, dr6, dr7, dr8, dr9, dr10, lbl], axis=1, ignore_index=False, sort=False)\n",
    "# df = pd.concat([dr4, dr5, dr6, dr7, lbl], axis=1, ignore_index=False, sort=False)\n",
    "df"
   ]
  },
  {
   "cell_type": "markdown",
   "id": "34ebe86a",
   "metadata": {},
   "source": [
    "## Here we select a dataframe consisting of evenly separated labels\n",
    "\n",
    "(I'm not sure if selecting all particles will impact in a different result)\n"
   ]
  },
  {
   "cell_type": "code",
   "execution_count": 5,
   "id": "89d16555",
   "metadata": {},
   "outputs": [],
   "source": [
    "## Sorting out the labels consisting in label '0' and label '1'\n",
    "## Then we sample them in order to not selecting them in a specific range or shape\n",
    "\n",
    "# df_0 = df.sort_values('labels').head(710036).sample(289000)\n",
    "# df_1 = df.sort_values('labels').tail(289964).sample(289000) \n",
    "# df_1.labels.sum()\n",
    "# df_r = pd.concat([df_0, df_1])\n",
    "df_r = df\n",
    "\n",
    "randomize = np.random.permutation(len(df_r.values))\n",
    "data = df_r.values[randomize]"
   ]
  },
  {
   "cell_type": "markdown",
   "id": "ff6945ae",
   "metadata": {},
   "source": [
    "## define a size for our traning dataset \n",
    "\n",
    "I think that for 500k + particles we can divide into train, test and validation datasets"
   ]
  },
  {
   "cell_type": "code",
   "execution_count": 7,
   "id": "53e3070e",
   "metadata": {},
   "outputs": [],
   "source": [
    "# Define a size for your train set \n",
    "split = 0.8\n",
    "ntrain = int(split * len(data))\n",
    "indx = [ntrain]\n",
    "train_set, test_set = np.split(data, indx)\n",
    "\n",
    "split = 0.5\n",
    "ntrain = int(split * len(test_set))\n",
    "indx = [ntrain]\n",
    "validation_set, test_test = np.split(test_set, indx)"
   ]
  },
  {
   "cell_type": "markdown",
   "id": "ea37a45e",
   "metadata": {},
   "source": [
    "## Select data, X for attributes, y for labels"
   ]
  },
  {
   "cell_type": "code",
   "execution_count": 8,
   "id": "fcff1978",
   "metadata": {},
   "outputs": [],
   "source": [
    "X_train = train_set[:, :-1]\n",
    "y_train = train_set[:, -1]\n",
    "\n",
    "X_val = validation_set[:, :-1]\n",
    "y_val = validation_set[:, -1]\n",
    "\n",
    "X_test = test_set[:, :-1]\n",
    "y_test = test_set[:, -1]"
   ]
  },
  {
   "cell_type": "code",
   "execution_count": 9,
   "id": "13ce6b2e",
   "metadata": {},
   "outputs": [
    {
     "data": {
      "text/plain": [
       "((800000, 10), (100000, 10), (200000, 10), (800000,), (100000,), (200000,))"
      ]
     },
     "execution_count": 9,
     "metadata": {},
     "output_type": "execute_result"
    }
   ],
   "source": [
    "np.shape(X_train), np.shape(X_val), np.shape(X_test), np.shape(y_train), np.shape(y_val), np.shape(y_test)"
   ]
  },
  {
   "cell_type": "code",
   "execution_count": 10,
   "id": "09705faa",
   "metadata": {},
   "outputs": [],
   "source": [
    "xscaler = StandardScaler()\n",
    "# scalerz = MinMaxScaler(feature_range=(-1,1))\n",
    "# fit scaler on data\n",
    "xscaler.fit(X_train)\n",
    "# apply transform\n",
    "X_train = xscaler.transform(X_train)\n",
    "X_val = xscaler.transform(X_val)\n",
    "X_test = xscaler.transform(X_test)"
   ]
  },
  {
   "cell_type": "markdown",
   "id": "ec4b80d4",
   "metadata": {},
   "source": [
    "## For the Confusion matrix \n"
   ]
  },
  {
   "cell_type": "code",
   "execution_count": 11,
   "id": "ee69ca4d",
   "metadata": {},
   "outputs": [],
   "source": [
    "#### THIS CELL IS FOR CALCULATE THE CONFUSION MATRIX ####\n",
    "def plot_confusion_matrix(y_true, y_pred, classes,\n",
    "                          normalize=False,\n",
    "                          title=None,\n",
    "                          cmap=plt.cm.Blues):\n",
    "    \"\"\"\n",
    "    This function prints and plots the confusion matrix.\n",
    "    Normalization can be applied by setting `normalize=True`.\n",
    "    \"\"\"\n",
    "    if not title:\n",
    "        if normalize:\n",
    "            title = 'Normalized confusion matrix'\n",
    "        else:\n",
    "            title = 'Confusion matrix, without normalization'\n",
    "\n",
    "    # Compute confusion matrix\n",
    "    cm = confusion_matrix(y_true, y_pred)\n",
    "    # Only use the labels that appear in the data\n",
    "    classes = classes\n",
    "    if normalize:\n",
    "        cm = cm.astype('float') / cm.sum(axis=1)[:, np.newaxis]\n",
    "        print(\"Normalized confusion matrix\")\n",
    "    else:\n",
    "        print('Confusion matrix, without normalization')\n",
    "\n",
    "    print(cm)\n",
    "\n",
    "    fig, ax = plt.subplots()\n",
    "    im = ax.imshow(cm, interpolation='nearest', cmap=cmap)\n",
    "    ax.figure.colorbar(im, ax=ax)\n",
    "    # We want to show all ticks...\n",
    "    ax.set(xticks=np.arange(cm.shape[1]),\n",
    "           yticks=np.arange(cm.shape[0]),\n",
    "           # ... and label them with the respective list entries\n",
    "           xticklabels=classes, yticklabels=classes,\n",
    "           title=title,\n",
    "           ylabel='True label',\n",
    "           xlabel='Predicted label')\n",
    "\n",
    "    # Rotate the tick labels and set their alignment.\n",
    "    plt.setp(ax.get_xticklabels(), rotation=45, ha=\"right\",\n",
    "             rotation_mode=\"anchor\")\n",
    "\n",
    "    # Loop over data dimensions and create text annotations.\n",
    "    fmt = '.2f' if normalize else 'd'\n",
    "    thresh = cm.max() / 2.\n",
    "    for i in range(cm.shape[0]):\n",
    "        for j in range(cm.shape[1]):\n",
    "            ax.text(j, i, format(cm[i, j], fmt),\n",
    "                    ha=\"center\", va=\"center\",\n",
    "                    color=\"white\" if cm[i, j] > thresh else \"black\")\n",
    "    fig.tight_layout()\n",
    "    return ax\n",
    "\n",
    "np.set_printoptions(precision=2)"
   ]
  },
  {
   "cell_type": "markdown",
   "id": "eb4b75da",
   "metadata": {},
   "source": [
    "## Random forest with sklearn "
   ]
  },
  {
   "cell_type": "code",
   "execution_count": 12,
   "id": "75046e03",
   "metadata": {
    "scrolled": true
   },
   "outputs": [
    {
     "data": {
      "text/plain": [
       "RandomForestClassifier(class_weight='balanced', criterion='entropy',\n",
       "                       max_depth=8, n_jobs=-1)"
      ]
     },
     "execution_count": 12,
     "metadata": {},
     "output_type": "execute_result"
    }
   ],
   "source": [
    "rf=RandomForestClassifier(n_estimators=100, max_depth=8, n_jobs=-1,\n",
    "                          criterion = 'entropy', class_weight='balanced')\n",
    "\n",
    "## n_jobs = -1 tells my computer to use all its cores, I have only 2, so it runs on 2 cores\n",
    "#Train the model using the training sets y_pred=clf.predict(X_test)\n",
    "rf.fit(X_train,y_train)\n",
    "\n"
   ]
  },
  {
   "cell_type": "code",
   "execution_count": 13,
   "id": "0d4e79a7",
   "metadata": {},
   "outputs": [
    {
     "name": "stdout",
     "output_type": "stream",
     "text": [
      "Traning and Testing on raw data, all features \n",
      "\n",
      "Accuracy: 0.76939\n",
      "F1: 0.6729353699527719\n",
      "Precision: 0.5716695381872071\n"
     ]
    },
    {
     "data": {
      "text/plain": [
       "((1000000, 10), (1000000,))"
      ]
     },
     "execution_count": 13,
     "metadata": {},
     "output_type": "execute_result"
    }
   ],
   "source": [
    "ypred = rf.predict(X_test)\n",
    "#####\n",
    "print('Traning and Testing on raw data, all features \\n');\n",
    "#### Model accuracy\n",
    "print(\"Accuracy:\", metrics.accuracy_score(y_test, ypred))\n",
    "print(\"F1:\", metrics.f1_score(y_test, ypred.round()))\n",
    "print(\"Precision:\", metrics.precision_score(y_test, ypred))\n",
    "\n",
    "X = data[:,:-1]\n",
    "y = data[:,1]\n",
    "np.shape(X), np.shape(y)"
   ]
  },
  {
   "cell_type": "code",
   "execution_count": 14,
   "id": "d3eebffb",
   "metadata": {},
   "outputs": [],
   "source": [
    "# for i, score_forest in enumerate(cross_val_score(rf, X, y, cv = 3)):\n",
    "#     print('Random Forest accuracy for the %d score: %0.2f' % (i, score_forest))\n",
    "# score_forest=cross_val_score(rf, X, y, cv=3)\n",
    "# #score_tree\n",
    "# cv_scores = []\n",
    "# print(\"Random Forest Accuracy: %0.2f (+/- %0.2f)\" % (score_forest.mean(), score_forest.std() * 2 ))\n",
    "# cv_score = score_forest.mean()\n",
    "# cv_scores.append(cv_score)"
   ]
  },
  {
   "cell_type": "markdown",
   "id": "64c5ab21",
   "metadata": {},
   "source": [
    "## Perceptron with Keras\n",
    "\n",
    "First, a grid of hyperparameters to find a fine combination of them. "
   ]
  },
  {
   "cell_type": "code",
   "execution_count": 15,
   "id": "7257cb0f",
   "metadata": {},
   "outputs": [
    {
     "name": "stdout",
     "output_type": "stream",
     "text": [
      "{'n_nodes1': [50, 100, 200], 'n_nodes2': [50, 100, 200], 'n_nodes3': [50, 100, 200], 'dropout': [0.2, 0.5]}\n"
     ]
    }
   ],
   "source": [
    "n_estimators = [int(x) for x in np.linspace(start = 200, stop = 2000, num = 10)]\n",
    "n_nodes1 = [50, 100, 200]\n",
    "n_nodes2 = [50, 100, 200]\n",
    "n_nodes3 = [50, 100, 200]\n",
    "dropout = [0.2, 0.5]\n",
    "random_grid = {'n_nodes1': n_nodes1, \n",
    "               'n_nodes2': n_nodes2,\n",
    "               'n_nodes3': n_nodes3,\n",
    "               'dropout': dropout}\n",
    "\n",
    "print(random_grid)"
   ]
  },
  {
   "cell_type": "code",
   "execution_count": 16,
   "id": "74f21163",
   "metadata": {},
   "outputs": [],
   "source": [
    "def ann_model(ninput=10, n_nodes1=100, n_nodes2=100, n_nodes3=100, dropout=0.5):\n",
    "    model = models.Sequential()\n",
    "    model.add(layers.Dense(n_nodes1,activation='relu',input_shape=(ninput,)))\n",
    "    model.add(layers.Dropout(dropout))\n",
    "    model.add(layers.Dense(n_nodes2,activation='relu'))\n",
    "    model.add(layers.Dropout(dropout))\n",
    "    model.add(layers.Dense(n_nodes3,activation='relu'))\n",
    "    model.add(layers.Dropout(dropout))\n",
    "    model.add(layers.Dense(1, activation='sigmoid'))\n",
    "\n",
    "    model.compile(optimizer=optimizers.Adam(),#RMSprop(lr=0.001),\n",
    "                        loss=losses.binary_crossentropy,\n",
    "                        metrics=['accuracy'])\n",
    "\n",
    "\n",
    "#     test1_model.summary()\n",
    "    return model"
   ]
  },
  {
   "cell_type": "code",
   "execution_count": 17,
   "id": "052e146d",
   "metadata": {},
   "outputs": [],
   "source": [
    "# model = KerasClassifier(build_fn=ann_model, epochs=30, batch_size=64, verbose=1)"
   ]
  },
  {
   "cell_type": "code",
   "execution_count": 18,
   "id": "5a6f99ab",
   "metadata": {},
   "outputs": [],
   "source": [
    "# Uncomment to the hyper-parameter random search\n",
    "# grid = RandomizedSearchCV(estimator=model, cv=KFold(3), param_distributions=random_grid, \n",
    "#                           verbose=20,  n_iter=5, n_jobs=1)\n",
    "\n",
    "# grid_result = grid.fit(X_train, y_train)"
   ]
  },
  {
   "cell_type": "code",
   "execution_count": 19,
   "id": "b059f072",
   "metadata": {},
   "outputs": [],
   "source": [
    "# grid_result.best_params_"
   ]
  },
  {
   "cell_type": "code",
   "execution_count": 22,
   "id": "d86f8a98",
   "metadata": {},
   "outputs": [],
   "source": [
    "# dropout = grid_result.best_params_['dropout']\n",
    "dropout = 0.2\n",
    "# n_nodes1 = grid_result.best_params_['n_nodes1']\n",
    "n_nodes1 = 200\n",
    "# n_nodes2 = grid_result.best_params_['n_nodes2']\n",
    "n_nodes2 = 200\n",
    "# n_nodes3 = grid_result.best_params_['n_nodes3']\n",
    "n_nodes3 = 50"
   ]
  },
  {
   "cell_type": "code",
   "execution_count": 23,
   "id": "7e354449",
   "metadata": {},
   "outputs": [
    {
     "name": "stdout",
     "output_type": "stream",
     "text": [
      "Epoch 1/100\n"
     ]
    },
    {
     "name": "stderr",
     "output_type": "stream",
     "text": [
      "2022-05-19 09:48:22.750982: I tensorflow/stream_executor/cuda/cuda_gpu_executor.cc:936] successful NUMA node read from SysFS had negative value (-1), but there must be at least one NUMA node, so returning NUMA node zero\n",
      "2022-05-19 09:48:22.751407: W tensorflow/stream_executor/platform/default/dso_loader.cc:64] Could not load dynamic library 'libcudart.so.11.0'; dlerror: libcudart.so.11.0: cannot open shared object file: No such file or directory; LD_LIBRARY_PATH: /home/isidro/cfitsio/lib:/home/isidro/MultiNest/lib:/home/isidro/cuba/:LD_LIBRARY_PATH:/home/isidro/.openmpi/lib/:/lib\n",
      "2022-05-19 09:48:22.751484: W tensorflow/stream_executor/platform/default/dso_loader.cc:64] Could not load dynamic library 'libcublas.so.11'; dlerror: libcublas.so.11: cannot open shared object file: No such file or directory; LD_LIBRARY_PATH: /home/isidro/cfitsio/lib:/home/isidro/MultiNest/lib:/home/isidro/cuba/:LD_LIBRARY_PATH:/home/isidro/.openmpi/lib/:/lib\n",
      "2022-05-19 09:48:22.751557: W tensorflow/stream_executor/platform/default/dso_loader.cc:64] Could not load dynamic library 'libcublasLt.so.11'; dlerror: libcublasLt.so.11: cannot open shared object file: No such file or directory; LD_LIBRARY_PATH: /home/isidro/cfitsio/lib:/home/isidro/MultiNest/lib:/home/isidro/cuba/:LD_LIBRARY_PATH:/home/isidro/.openmpi/lib/:/lib\n",
      "2022-05-19 09:48:22.751628: W tensorflow/stream_executor/platform/default/dso_loader.cc:64] Could not load dynamic library 'libcufft.so.10'; dlerror: libcufft.so.10: cannot open shared object file: No such file or directory; LD_LIBRARY_PATH: /home/isidro/cfitsio/lib:/home/isidro/MultiNest/lib:/home/isidro/cuba/:LD_LIBRARY_PATH:/home/isidro/.openmpi/lib/:/lib\n",
      "2022-05-19 09:48:22.751703: W tensorflow/stream_executor/platform/default/dso_loader.cc:64] Could not load dynamic library 'libcurand.so.10'; dlerror: libcurand.so.10: cannot open shared object file: No such file or directory; LD_LIBRARY_PATH: /home/isidro/cfitsio/lib:/home/isidro/MultiNest/lib:/home/isidro/cuba/:LD_LIBRARY_PATH:/home/isidro/.openmpi/lib/:/lib\n",
      "2022-05-19 09:48:22.751772: W tensorflow/stream_executor/platform/default/dso_loader.cc:64] Could not load dynamic library 'libcusolver.so.11'; dlerror: libcusolver.so.11: cannot open shared object file: No such file or directory; LD_LIBRARY_PATH: /home/isidro/cfitsio/lib:/home/isidro/MultiNest/lib:/home/isidro/cuba/:LD_LIBRARY_PATH:/home/isidro/.openmpi/lib/:/lib\n",
      "2022-05-19 09:48:22.751839: W tensorflow/stream_executor/platform/default/dso_loader.cc:64] Could not load dynamic library 'libcusparse.so.11'; dlerror: libcusparse.so.11: cannot open shared object file: No such file or directory; LD_LIBRARY_PATH: /home/isidro/cfitsio/lib:/home/isidro/MultiNest/lib:/home/isidro/cuba/:LD_LIBRARY_PATH:/home/isidro/.openmpi/lib/:/lib\n",
      "2022-05-19 09:48:22.751904: W tensorflow/stream_executor/platform/default/dso_loader.cc:64] Could not load dynamic library 'libcudnn.so.8'; dlerror: libcudnn.so.8: cannot open shared object file: No such file or directory; LD_LIBRARY_PATH: /home/isidro/cfitsio/lib:/home/isidro/MultiNest/lib:/home/isidro/cuba/:LD_LIBRARY_PATH:/home/isidro/.openmpi/lib/:/lib\n",
      "2022-05-19 09:48:22.751914: W tensorflow/core/common_runtime/gpu/gpu_device.cc:1850] Cannot dlopen some GPU libraries. Please make sure the missing libraries mentioned above are installed properly if you would like to use GPU. Follow the guide at https://www.tensorflow.org/install/gpu for how to download and setup the required libraries for your platform.\n",
      "Skipping registering GPU devices...\n",
      "2022-05-19 09:48:22.752266: I tensorflow/core/platform/cpu_feature_guard.cc:151] This TensorFlow binary is optimized with oneAPI Deep Neural Network Library (oneDNN) to use the following CPU instructions in performance-critical operations:  AVX2 FMA\n",
      "To enable them in other operations, rebuild TensorFlow with the appropriate compiler flags.\n"
     ]
    },
    {
     "name": "stdout",
     "output_type": "stream",
     "text": [
      "50000/50000 [==============================] - 60s 1ms/step - loss: 0.4179 - accuracy: 0.7996 - val_loss: 0.4107 - val_accuracy: 0.8017\n",
      "Epoch 2/100\n",
      "50000/50000 [==============================] - 57s 1ms/step - loss: 0.4161 - accuracy: 0.8005 - val_loss: 0.4110 - val_accuracy: 0.8012\n",
      "Epoch 3/100\n",
      "50000/50000 [==============================] - 57s 1ms/step - loss: 0.4162 - accuracy: 0.8005 - val_loss: 0.4132 - val_accuracy: 0.8014\n",
      "Epoch 4/100\n",
      "50000/50000 [==============================] - 60s 1ms/step - loss: 0.4157 - accuracy: 0.8006 - val_loss: 0.4100 - val_accuracy: 0.8016\n",
      "Epoch 5/100\n",
      "50000/50000 [==============================] - 65s 1ms/step - loss: 0.4156 - accuracy: 0.8007 - val_loss: 0.4130 - val_accuracy: 0.8022\n",
      "Epoch 6/100\n",
      "50000/50000 [==============================] - 73s 1ms/step - loss: 0.4159 - accuracy: 0.8005 - val_loss: 0.4114 - val_accuracy: 0.8023\n",
      "Epoch 7/100\n",
      "50000/50000 [==============================] - 72s 1ms/step - loss: 0.4157 - accuracy: 0.8007 - val_loss: 0.4098 - val_accuracy: 0.8018\n",
      "Epoch 8/100\n",
      "50000/50000 [==============================] - 73s 1ms/step - loss: 0.4156 - accuracy: 0.8006 - val_loss: 0.4126 - val_accuracy: 0.8018\n",
      "Epoch 9/100\n",
      "50000/50000 [==============================] - 61s 1ms/step - loss: 0.4157 - accuracy: 0.8007 - val_loss: 0.4153 - val_accuracy: 0.8016\n",
      "Epoch 10/100\n",
      "50000/50000 [==============================] - 66s 1ms/step - loss: 0.4157 - accuracy: 0.8008 - val_loss: 0.4127 - val_accuracy: 0.8021\n",
      "Epoch 11/100\n",
      "50000/50000 [==============================] - 67s 1ms/step - loss: 0.4159 - accuracy: 0.8008 - val_loss: 0.4187 - val_accuracy: 0.8022\n",
      "Epoch 12/100\n",
      "50000/50000 [==============================] - 77s 2ms/step - loss: 0.4156 - accuracy: 0.8006 - val_loss: 0.4138 - val_accuracy: 0.8010\n",
      "Epoch 13/100\n",
      "50000/50000 [==============================] - 83s 2ms/step - loss: 0.4157 - accuracy: 0.8007 - val_loss: 0.4160 - val_accuracy: 0.8016\n",
      "Epoch 14/100\n",
      "50000/50000 [==============================] - 82s 2ms/step - loss: 0.4157 - accuracy: 0.8010 - val_loss: 0.4142 - val_accuracy: 0.8016\n",
      "Epoch 15/100\n",
      "50000/50000 [==============================] - 84s 2ms/step - loss: 0.4159 - accuracy: 0.8008 - val_loss: 0.4202 - val_accuracy: 0.8022\n",
      "Epoch 16/100\n",
      "50000/50000 [==============================] - 88s 2ms/step - loss: 0.4156 - accuracy: 0.8009 - val_loss: 0.4175 - val_accuracy: 0.8016\n",
      "Epoch 17/100\n",
      "50000/50000 [==============================] - 86s 2ms/step - loss: 0.4156 - accuracy: 0.8006 - val_loss: 0.4158 - val_accuracy: 0.8020\n",
      "Epoch 18/100\n",
      "50000/50000 [==============================] - 76s 2ms/step - loss: 0.4158 - accuracy: 0.8008 - val_loss: 0.4138 - val_accuracy: 0.8014\n",
      "Epoch 19/100\n",
      "50000/50000 [==============================] - 73s 1ms/step - loss: 0.4160 - accuracy: 0.8006 - val_loss: 0.4200 - val_accuracy: 0.8025\n",
      "Epoch 20/100\n",
      "50000/50000 [==============================] - 84s 2ms/step - loss: 0.4163 - accuracy: 0.8005 - val_loss: 0.4136 - val_accuracy: 0.8023\n",
      "Epoch 21/100\n",
      "50000/50000 [==============================] - 95s 2ms/step - loss: 0.4160 - accuracy: 0.8007 - val_loss: 0.4142 - val_accuracy: 0.7995\n",
      "Epoch 22/100\n",
      "50000/50000 [==============================] - 91s 2ms/step - loss: 0.4159 - accuracy: 0.8006 - val_loss: 0.4161 - val_accuracy: 0.8022\n",
      "Epoch 23/100\n",
      "50000/50000 [==============================] - 72s 1ms/step - loss: 0.4158 - accuracy: 0.8010 - val_loss: 0.4177 - val_accuracy: 0.8011\n",
      "Epoch 24/100\n",
      "50000/50000 [==============================] - 73s 1ms/step - loss: 0.4162 - accuracy: 0.8006 - val_loss: 0.4192 - val_accuracy: 0.7981\n",
      "Epoch 25/100\n",
      "50000/50000 [==============================] - 71s 1ms/step - loss: 0.4162 - accuracy: 0.8005 - val_loss: 0.4163 - val_accuracy: 0.8019\n",
      "Epoch 26/100\n",
      "50000/50000 [==============================] - 79s 2ms/step - loss: 0.4166 - accuracy: 0.8004 - val_loss: 0.4164 - val_accuracy: 0.8015\n",
      "Epoch 27/100\n",
      "50000/50000 [==============================] - 76s 2ms/step - loss: 0.4166 - accuracy: 0.8008 - val_loss: 0.4125 - val_accuracy: 0.8015\n",
      "Epoch 28/100\n",
      "50000/50000 [==============================] - 126s 3ms/step - loss: 0.4164 - accuracy: 0.8005 - val_loss: 0.4146 - val_accuracy: 0.8024\n",
      "Epoch 29/100\n",
      "50000/50000 [==============================] - 115s 2ms/step - loss: 0.4165 - accuracy: 0.8008 - val_loss: 0.4122 - val_accuracy: 0.8019\n",
      "Epoch 30/100\n",
      "50000/50000 [==============================] - 105s 2ms/step - loss: 0.4167 - accuracy: 0.8003 - val_loss: 0.4153 - val_accuracy: 0.8014\n",
      "Epoch 31/100\n",
      "50000/50000 [==============================] - 85s 2ms/step - loss: 0.4165 - accuracy: 0.8007 - val_loss: 0.4201 - val_accuracy: 0.8008\n",
      "Epoch 32/100\n",
      "50000/50000 [==============================] - 94s 2ms/step - loss: 0.4165 - accuracy: 0.8003 - val_loss: 0.4176 - val_accuracy: 0.8018\n",
      "Epoch 33/100\n",
      "50000/50000 [==============================] - 123s 2ms/step - loss: 0.4167 - accuracy: 0.8004 - val_loss: 0.4192 - val_accuracy: 0.8018\n",
      "Epoch 34/100\n",
      "50000/50000 [==============================] - 152s 3ms/step - loss: 0.4172 - accuracy: 0.8008 - val_loss: 0.4107 - val_accuracy: 0.8021\n",
      "Epoch 35/100\n",
      "50000/50000 [==============================] - 135s 3ms/step - loss: 0.4171 - accuracy: 0.8003 - val_loss: 0.4147 - val_accuracy: 0.8016\n",
      "Epoch 36/100\n",
      "50000/50000 [==============================] - 134s 3ms/step - loss: 0.4174 - accuracy: 0.8002 - val_loss: 0.4143 - val_accuracy: 0.8000\n",
      "Epoch 37/100\n",
      "50000/50000 [==============================] - 112s 2ms/step - loss: 0.4172 - accuracy: 0.7999 - val_loss: 0.4151 - val_accuracy: 0.8010\n",
      "Epoch 38/100\n",
      "50000/50000 [==============================] - 72s 1ms/step - loss: 0.4173 - accuracy: 0.8003 - val_loss: 0.4162 - val_accuracy: 0.7994\n",
      "Epoch 39/100\n",
      "50000/50000 [==============================] - 69s 1ms/step - loss: 0.4173 - accuracy: 0.8003 - val_loss: 0.4135 - val_accuracy: 0.8004\n",
      "Epoch 40/100\n",
      "50000/50000 [==============================] - 62s 1ms/step - loss: 0.4172 - accuracy: 0.8002 - val_loss: 0.4158 - val_accuracy: 0.7983\n",
      "Epoch 41/100\n",
      "50000/50000 [==============================] - 65s 1ms/step - loss: 0.4176 - accuracy: 0.8005 - val_loss: 0.4208 - val_accuracy: 0.7991\n",
      "Epoch 42/100\n",
      "50000/50000 [==============================] - 69s 1ms/step - loss: 0.4174 - accuracy: 0.8001 - val_loss: 0.4204 - val_accuracy: 0.7970\n",
      "Epoch 43/100\n",
      "50000/50000 [==============================] - 74s 1ms/step - loss: 0.4176 - accuracy: 0.8004 - val_loss: 0.4160 - val_accuracy: 0.8003\n",
      "Epoch 44/100\n",
      "50000/50000 [==============================] - 78s 2ms/step - loss: 0.4176 - accuracy: 0.8000 - val_loss: 0.4152 - val_accuracy: 0.8007\n",
      "Epoch 45/100\n",
      "50000/50000 [==============================] - 84s 2ms/step - loss: 0.4172 - accuracy: 0.8002 - val_loss: 0.4150 - val_accuracy: 0.8001\n",
      "Epoch 46/100\n",
      "50000/50000 [==============================] - 82s 2ms/step - loss: 0.4176 - accuracy: 0.8003 - val_loss: 0.4193 - val_accuracy: 0.7946\n",
      "Epoch 47/100\n",
      "50000/50000 [==============================] - 72s 1ms/step - loss: 0.4180 - accuracy: 0.8000 - val_loss: 0.4190 - val_accuracy: 0.7958\n",
      "Epoch 48/100\n",
      "50000/50000 [==============================] - 73s 1ms/step - loss: 0.4178 - accuracy: 0.8001 - val_loss: 0.4167 - val_accuracy: 0.7984\n",
      "Epoch 49/100\n",
      "50000/50000 [==============================] - 76s 2ms/step - loss: 0.4178 - accuracy: 0.8003 - val_loss: 0.4138 - val_accuracy: 0.7991\n",
      "Epoch 50/100\n",
      "50000/50000 [==============================] - 80s 2ms/step - loss: 0.4182 - accuracy: 0.8001 - val_loss: 0.4187 - val_accuracy: 0.7998\n",
      "Epoch 51/100\n",
      "50000/50000 [==============================] - 89s 2ms/step - loss: 0.4181 - accuracy: 0.8000 - val_loss: 0.4143 - val_accuracy: 0.7999\n",
      "Epoch 52/100\n",
      "50000/50000 [==============================] - 77s 2ms/step - loss: 0.4179 - accuracy: 0.8001 - val_loss: 0.4178 - val_accuracy: 0.8002\n",
      "Epoch 53/100\n",
      "50000/50000 [==============================] - 68s 1ms/step - loss: 0.4182 - accuracy: 0.8000 - val_loss: 0.4152 - val_accuracy: 0.8009\n",
      "Epoch 54/100\n",
      "50000/50000 [==============================] - 79s 2ms/step - loss: 0.4179 - accuracy: 0.8000 - val_loss: 0.4137 - val_accuracy: 0.8010\n",
      "Epoch 55/100\n",
      "50000/50000 [==============================] - 90s 2ms/step - loss: 0.4179 - accuracy: 0.7998 - val_loss: 0.4156 - val_accuracy: 0.8001\n",
      "Epoch 56/100\n"
     ]
    },
    {
     "name": "stdout",
     "output_type": "stream",
     "text": [
      "50000/50000 [==============================] - 88s 2ms/step - loss: 0.4177 - accuracy: 0.8001 - val_loss: 0.4190 - val_accuracy: 0.7994\n",
      "Epoch 57/100\n",
      "50000/50000 [==============================] - 87s 2ms/step - loss: 0.4177 - accuracy: 0.8000 - val_loss: 0.4181 - val_accuracy: 0.8004\n",
      "Epoch 58/100\n",
      "50000/50000 [==============================] - 81s 2ms/step - loss: 0.4177 - accuracy: 0.7999 - val_loss: 0.4231 - val_accuracy: 0.7949\n",
      "Epoch 59/100\n",
      "50000/50000 [==============================] - 85s 2ms/step - loss: 0.4178 - accuracy: 0.7997 - val_loss: 0.4163 - val_accuracy: 0.7981\n",
      "Epoch 60/100\n",
      "50000/50000 [==============================] - 81s 2ms/step - loss: 0.4177 - accuracy: 0.8001 - val_loss: 0.4214 - val_accuracy: 0.8004\n",
      "Epoch 61/100\n",
      "50000/50000 [==============================] - 82s 2ms/step - loss: 0.4178 - accuracy: 0.8000 - val_loss: 0.4175 - val_accuracy: 0.7989\n",
      "Epoch 62/100\n",
      "50000/50000 [==============================] - 87s 2ms/step - loss: 0.4178 - accuracy: 0.7999 - val_loss: 0.4193 - val_accuracy: 0.7966\n",
      "Epoch 63/100\n",
      "50000/50000 [==============================] - 83s 2ms/step - loss: 0.4182 - accuracy: 0.7998 - val_loss: 0.4165 - val_accuracy: 0.8001\n",
      "Epoch 64/100\n",
      "50000/50000 [==============================] - 75s 2ms/step - loss: 0.4183 - accuracy: 0.8000 - val_loss: 0.4140 - val_accuracy: 0.8002\n",
      "Epoch 65/100\n",
      "50000/50000 [==============================] - 81s 2ms/step - loss: 0.4177 - accuracy: 0.8001 - val_loss: 0.4162 - val_accuracy: 0.7947\n",
      "Epoch 66/100\n",
      "50000/50000 [==============================] - 79s 2ms/step - loss: 0.4180 - accuracy: 0.7996 - val_loss: 0.4199 - val_accuracy: 0.7989\n",
      "Epoch 67/100\n",
      "50000/50000 [==============================] - 80s 2ms/step - loss: 0.4184 - accuracy: 0.7999 - val_loss: 0.4212 - val_accuracy: 0.7931\n",
      "Epoch 68/100\n",
      "50000/50000 [==============================] - 80s 2ms/step - loss: 0.4185 - accuracy: 0.7998 - val_loss: 0.4148 - val_accuracy: 0.8012\n",
      "Epoch 69/100\n",
      "50000/50000 [==============================] - 82s 2ms/step - loss: 0.4184 - accuracy: 0.7998 - val_loss: 0.4200 - val_accuracy: 0.7984\n",
      "Epoch 70/100\n",
      "50000/50000 [==============================] - 80s 2ms/step - loss: 0.4181 - accuracy: 0.8001 - val_loss: 0.4181 - val_accuracy: 0.7990\n",
      "Epoch 71/100\n",
      "50000/50000 [==============================] - 80s 2ms/step - loss: 0.4180 - accuracy: 0.7999 - val_loss: 0.4189 - val_accuracy: 0.7970\n",
      "Epoch 72/100\n",
      "50000/50000 [==============================] - 77s 2ms/step - loss: 0.4177 - accuracy: 0.7998 - val_loss: 0.4221 - val_accuracy: 0.7952\n",
      "Epoch 73/100\n",
      "50000/50000 [==============================] - 76s 2ms/step - loss: 0.4183 - accuracy: 0.8000 - val_loss: 0.4203 - val_accuracy: 0.7971\n",
      "Epoch 74/100\n",
      "50000/50000 [==============================] - 79s 2ms/step - loss: 0.4178 - accuracy: 0.8004 - val_loss: 0.4189 - val_accuracy: 0.7950\n",
      "Epoch 75/100\n",
      "50000/50000 [==============================] - 84s 2ms/step - loss: 0.4184 - accuracy: 0.7999 - val_loss: 0.4191 - val_accuracy: 0.8000\n",
      "Epoch 76/100\n",
      "50000/50000 [==============================] - 75s 2ms/step - loss: 0.4179 - accuracy: 0.7998 - val_loss: 0.4151 - val_accuracy: 0.7987\n",
      "Epoch 77/100\n",
      "50000/50000 [==============================] - 87s 2ms/step - loss: 0.4189 - accuracy: 0.7997 - val_loss: 0.4152 - val_accuracy: 0.8005\n",
      "Epoch 78/100\n",
      "50000/50000 [==============================] - 89s 2ms/step - loss: 0.4185 - accuracy: 0.7999 - val_loss: 0.4209 - val_accuracy: 0.7943\n",
      "Epoch 79/100\n",
      "50000/50000 [==============================] - 89s 2ms/step - loss: 0.4185 - accuracy: 0.7997 - val_loss: 0.4172 - val_accuracy: 0.7963\n",
      "Epoch 80/100\n",
      "50000/50000 [==============================] - 93s 2ms/step - loss: 0.4183 - accuracy: 0.7998 - val_loss: 0.4189 - val_accuracy: 0.7990\n",
      "Epoch 81/100\n",
      "50000/50000 [==============================] - 93s 2ms/step - loss: 0.4182 - accuracy: 0.7998 - val_loss: 0.4195 - val_accuracy: 0.7981\n",
      "Epoch 82/100\n",
      "50000/50000 [==============================] - 97s 2ms/step - loss: 0.4184 - accuracy: 0.7998 - val_loss: 0.4251 - val_accuracy: 0.7927\n",
      "Epoch 83/100\n",
      "50000/50000 [==============================] - 95s 2ms/step - loss: 0.4187 - accuracy: 0.8001 - val_loss: 0.4176 - val_accuracy: 0.7970\n",
      "Epoch 84/100\n",
      "50000/50000 [==============================] - 96s 2ms/step - loss: 0.4183 - accuracy: 0.7999 - val_loss: 0.4178 - val_accuracy: 0.7971\n",
      "Epoch 85/100\n",
      "50000/50000 [==============================] - 82s 2ms/step - loss: 0.4188 - accuracy: 0.7997 - val_loss: 0.4181 - val_accuracy: 0.7968\n",
      "Epoch 86/100\n",
      "50000/50000 [==============================] - 80s 2ms/step - loss: 0.4180 - accuracy: 0.7999 - val_loss: 0.4136 - val_accuracy: 0.8010\n",
      "Epoch 87/100\n",
      "50000/50000 [==============================] - 75s 1ms/step - loss: 0.4188 - accuracy: 0.7994 - val_loss: 0.4246 - val_accuracy: 0.7944\n",
      "Epoch 88/100\n",
      "50000/50000 [==============================] - 88s 2ms/step - loss: 0.4191 - accuracy: 0.7996 - val_loss: 0.4153 - val_accuracy: 0.7996\n",
      "Epoch 89/100\n",
      "50000/50000 [==============================] - 84s 2ms/step - loss: 0.4191 - accuracy: 0.7999 - val_loss: 0.4193 - val_accuracy: 0.7985\n",
      "Epoch 90/100\n",
      "50000/50000 [==============================] - 76s 2ms/step - loss: 0.4190 - accuracy: 0.7999 - val_loss: 0.4168 - val_accuracy: 0.8013\n",
      "Epoch 91/100\n",
      "50000/50000 [==============================] - 81s 2ms/step - loss: 0.4187 - accuracy: 0.8000 - val_loss: 0.4177 - val_accuracy: 0.7999\n",
      "Epoch 92/100\n",
      "50000/50000 [==============================] - 87s 2ms/step - loss: 0.4186 - accuracy: 0.7997 - val_loss: 0.4176 - val_accuracy: 0.8000\n",
      "Epoch 93/100\n",
      "50000/50000 [==============================] - 82s 2ms/step - loss: 0.4189 - accuracy: 0.7998 - val_loss: 0.4178 - val_accuracy: 0.7985\n",
      "Epoch 94/100\n",
      "50000/50000 [==============================] - 82s 2ms/step - loss: 0.4189 - accuracy: 0.7999 - val_loss: 0.4266 - val_accuracy: 0.7919\n",
      "Epoch 95/100\n",
      "50000/50000 [==============================] - 85s 2ms/step - loss: 0.4194 - accuracy: 0.7996 - val_loss: 0.4189 - val_accuracy: 0.7999\n",
      "Epoch 96/100\n",
      "50000/50000 [==============================] - 83s 2ms/step - loss: 0.4191 - accuracy: 0.7995 - val_loss: 0.4155 - val_accuracy: 0.8007\n",
      "Epoch 97/100\n",
      "50000/50000 [==============================] - 74s 1ms/step - loss: 0.4187 - accuracy: 0.7997 - val_loss: 0.4176 - val_accuracy: 0.7993\n",
      "Epoch 98/100\n",
      "50000/50000 [==============================] - 76s 2ms/step - loss: 0.4187 - accuracy: 0.7994 - val_loss: 0.4230 - val_accuracy: 0.7985\n",
      "Epoch 99/100\n",
      "50000/50000 [==============================] - 79s 2ms/step - loss: 0.4188 - accuracy: 0.7996 - val_loss: 0.4189 - val_accuracy: 0.7984\n",
      "Epoch 100/100\n",
      "50000/50000 [==============================] - 94s 2ms/step - loss: 0.4190 - accuracy: 0.7996 - val_loss: 0.4193 - val_accuracy: 0.7969\n"
     ]
    }
   ],
   "source": [
    "neural_model = ann_model(n_nodes1=n_nodes1, n_nodes2=n_nodes2, n_nodes3=n_nodes3,\n",
    "                        dropout=dropout)\n",
    "\n",
    "callbacks = [tf.keras.callbacks.EarlyStopping(monitor='val_accuracy', patience=100, restore_best_weights=True)]\n",
    "\n",
    "neural_model_history = neural_model.fit(X_train,\n",
    "                                      y_train,\n",
    "                                      epochs=30,\n",
    "                                      batch_size=16,\n",
    "                                      validation_data=(X_val,y_val),\n",
    "                                      verbose=1, callbacks=callbacks)"
   ]
  },
  {
   "cell_type": "code",
   "execution_count": 24,
   "id": "54236351",
   "metadata": {},
   "outputs": [
    {
     "data": {
      "image/png": "[encoded data removed]",
      "text/plain": [
       "<Figure size 792x324 with 2 Axes>"
      ]
     },
     "metadata": {
      "needs_background": "light"
     },
     "output_type": "display_data"
    }
   ],
   "source": [
    "#plot\n",
    "fig, axs = plt.subplots(nrows=1, ncols=2, figsize=(11,4.5))    \n",
    "\n",
    "results_dict = neural_model_history.history\n",
    "epochs = range(1,len(results_dict['accuracy'])+1)\n",
    "\n",
    "#accuracy\n",
    "acc_values = results_dict['accuracy']\n",
    "val_acc_values = results_dict['val_accuracy']\n",
    "    \n",
    "axs[0].plot(epochs,acc_values,color='black',label='train',linewidth=1.5,linestyle='-')\n",
    "axs[0].plot(epochs,val_acc_values,color='red',label='test',linewidth=1.5,linestyle='-')\n",
    "axs[0].set_xlabel('epochs')\n",
    "minorLocatorX = AutoMinorLocator()\n",
    "axs[0].xaxis.set_minor_locator(minorLocatorX)\n",
    "axs[0].set_ylabel('accuracy')\n",
    "axs[0].set_ylim([0.5, 1.02])   \n",
    "minorLocatorY = AutoMinorLocator()\n",
    "axs[0].yaxis.set_minor_locator(minorLocatorY)\n",
    "axs[0].tick_params(which='major', length=6)\n",
    "axs[0].tick_params(which='minor', length=3, color='black')       \n",
    "axs[0].legend(loc='lower right')\n",
    "    \n",
    "#loss\n",
    "loss_values = results_dict['loss']\n",
    "val_loss_values = results_dict['val_loss']\n",
    "       \n",
    "axs[1].plot(epochs,loss_values,color='black',label='train',linewidth=1.5,linestyle='-')\n",
    "axs[1].plot(epochs,val_loss_values,color='red',label='test',linewidth=1.5,linestyle='-')\n",
    "axs[1].set_xlabel('epochs')\n",
    "minorLocatorX = AutoMinorLocator()\n",
    "axs[1].xaxis.set_minor_locator(minorLocatorX)   \n",
    "axs[1].set_ylabel('loss')\n",
    "minorLocatorY = AutoMinorLocator()\n",
    "axs[1].yaxis.set_minor_locator(minorLocatorY)\n",
    "axs[1].tick_params(which='major', length=6)\n",
    "axs[1].tick_params(which='minor', length=3, color='black')    \n",
    "axs[1].legend(loc='upper right')\n",
    "\n",
    "axs[0].set_title('Training and test accuracy after {} epochs: \\n {:.3f} (train), {:.3f} (validation)'\n",
    "                 .format(len(epochs),acc_values[-1],val_acc_values[-1]));\n",
    "\n",
    "axs[1].set_title('Training and test loss after {} epochs: \\n {:.3f} (train), {:.3f} (validation)'\n",
    "                 .format(len(epochs),loss_values[-1],val_loss_values[-1]));"
   ]
  },
  {
   "cell_type": "code",
   "execution_count": 25,
   "id": "60c9ce62",
   "metadata": {},
   "outputs": [
    {
     "name": "stdout",
     "output_type": "stream",
     "text": [
      "Traning and Testing on raw data, all features \n",
      "\n"
     ]
    }
   ],
   "source": [
    "ypred2 = neural_model.predict(X_test)\n",
    "#####\n",
    "print('Traning and Testing on raw data, all features \\n');\n",
    "#### Model accuracy\n",
    "# print(\"Accuracy:\", metrics.accuracy_score(y_test, ypred2))"
   ]
  },
  {
   "cell_type": "code",
   "execution_count": 26,
   "id": "bf64bb8a",
   "metadata": {},
   "outputs": [
    {
     "data": {
      "text/plain": [
       "((200000, 1), (200000,))"
      ]
     },
     "execution_count": 26,
     "metadata": {},
     "output_type": "execute_result"
    }
   ],
   "source": [
    "np.shape(ypred2), np.shape(y_test)"
   ]
  },
  {
   "cell_type": "code",
   "execution_count": 27,
   "id": "fc65e7de",
   "metadata": {},
   "outputs": [
    {
     "name": "stdout",
     "output_type": "stream",
     "text": [
      "RANDOM FOREST\n",
      "Accuracy: 0.76939\n",
      "F1: 0.6729353699527719\n",
      "Precision: 0.5716695381872071\n",
      "NEURAL NETWORK\n",
      "Accuracy: 0.79663\n",
      "F1: 0.5923305135709418\n",
      "Precision: 0.7077096256556415\n"
     ]
    }
   ],
   "source": [
    "print(\"RANDOM FOREST\")\n",
    "print(\"Accuracy:\", metrics.accuracy_score(y_test, ypred.round()))\n",
    "print(\"F1:\", metrics.f1_score(y_test, ypred.round()))\n",
    "print(\"Precision:\", metrics.precision_score(y_test, ypred.round()))\n",
    "\n",
    "print(\"NEURAL NETWORK\")\n",
    "print(\"Accuracy:\", metrics.accuracy_score(y_test, ypred2.round()))\n",
    "print(\"F1:\", metrics.f1_score(y_test, ypred2.round()))\n",
    "print(\"Precision:\", metrics.precision_score(y_test, ypred2.round()))\n"
   ]
  },
  {
   "cell_type": "code",
   "execution_count": 30,
   "id": "8d5c91e6",
   "metadata": {},
   "outputs": [
    {
     "name": "stdout",
     "output_type": "stream",
     "text": [
      "Confusion matrix, without normalization\n",
      "[[106430  35551]\n",
      " [ 10571  47448]]\n"
     ]
    },
    {
     "data": {
      "image/png": "[encoded data removed]",
      "text/plain": [
       "<Figure size 432x288 with 2 Axes>"
      ]
     },
     "metadata": {
      "needs_background": "light"
     },
     "output_type": "display_data"
    }
   ],
   "source": [
    "plot_confusion_matrix(y_test, ypred.round(), classes=['not in halo', 'in halo'])\n",
    "plt.title(\"RANDOM FOREST\")\n",
    "plt.savefig(\"confmatrix_randomforest.png\")"
   ]
  },
  {
   "cell_type": "code",
   "execution_count": 31,
   "id": "8340d480",
   "metadata": {},
   "outputs": [
    {
     "name": "stdout",
     "output_type": "stream",
     "text": [
      "Confusion matrix, without normalization\n",
      "[[129777  12204]\n",
      " [ 28470  29549]]\n"
     ]
    },
    {
     "data": {
      "image/png": "[encoded data removed]",
      "text/plain": [
       "<Figure size 432x288 with 2 Axes>"
      ]
     },
     "metadata": {
      "needs_background": "light"
     },
     "output_type": "display_data"
    }
   ],
   "source": [
    "plot_confusion_matrix(y_test, ypred2.round(), classes=['not in halo', 'in halo'])\n",
    "plt.title(\"NEURAL NETWORK\")\n",
    "plt.savefig(\"confmatrix_ann.png\")"
   ]
  },
  {
   "cell_type": "code",
   "execution_count": null,
   "id": "5747e7fe",
   "metadata": {},
   "outputs": [],
   "source": []
  }
 ],
 "metadata": {
  "kernelspec": {
   "display_name": "Python 3",
   "language": "python",
   "name": "python3"
  },
  "language_info": {
   "codemirror_mode": {
    "name": "ipython",
    "version": 3
   },
   "file_extension": ".py",
   "mimetype": "text/x-python",
   "name": "python",
   "nbconvert_exporter": "python",
   "pygments_lexer": "ipython3",
   "version": "3.9.7"
  }
 },
 "nbformat": 4,
 "nbformat_minor": 5
}
