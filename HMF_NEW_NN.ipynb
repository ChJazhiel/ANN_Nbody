{
 "cells": [
  {
   "cell_type": "code",
   "execution_count": 1,
   "id": "2afe8dbd",
   "metadata": {},
   "outputs": [
    {
     "name": "stderr",
     "output_type": "stream",
     "text": [
      "2022-11-03 19:59:43.349431: I tensorflow/core/platform/cpu_feature_guard.cc:193] This TensorFlow binary is optimized with oneAPI Deep Neural Network Library (oneDNN) to use the following CPU instructions in performance-critical operations:  AVX2 FMA\n",
      "To enable them in other operations, rebuild TensorFlow with the appropriate compiler flags.\n",
      "2022-11-03 19:59:43.991634: W tensorflow/stream_executor/platform/default/dso_loader.cc:64] Could not load dynamic library 'libcudart.so.11.0'; dlerror: libcudart.so.11.0: cannot open shared object file: No such file or directory\n",
      "2022-11-03 19:59:43.991691: I tensorflow/stream_executor/cuda/cudart_stub.cc:29] Ignore above cudart dlerror if you do not have a GPU set up on your machine.\n",
      "2022-11-03 19:59:44.094161: E tensorflow/stream_executor/cuda/cuda_blas.cc:2981] Unable to register cuBLAS factory: Attempting to register factory for plugin cuBLAS when one has already been registered\n",
      "2022-11-03 19:59:45.219347: W tensorflow/stream_executor/platform/default/dso_loader.cc:64] Could not load dynamic library 'libnvinfer.so.7'; dlerror: libnvinfer.so.7: cannot open shared object file: No such file or directory\n",
      "2022-11-03 19:59:45.219522: W tensorflow/stream_executor/platform/default/dso_loader.cc:64] Could not load dynamic library 'libnvinfer_plugin.so.7'; dlerror: libnvinfer_plugin.so.7: cannot open shared object file: No such file or directory\n",
      "2022-11-03 19:59:45.219530: W tensorflow/compiler/tf2tensorrt/utils/py_utils.cc:38] TF-TRT Warning: Cannot dlopen some TensorRT libraries. If you would like to use Nvidia GPU with TensorRT, please make sure the missing libraries mentioned above are installed properly.\n"
     ]
    }
   ],
   "source": [
    "import pathlib\n",
    "\n",
    "import matplotlib.pyplot as plt\n",
    "import pandas as pd\n",
    "import seaborn as sns\n",
    "\n",
    "import numpy as np\n",
    "\n",
    "\n",
    "import tensorflow as tf\n",
    "from tensorflow.keras.layers import Dense, Flatten, Conv2D\n",
    "from tensorflow.keras import Model\n",
    "from tensorflow.keras import layers\n",
    "from tensorflow.keras import models\n",
    "from tensorflow.keras import optimizers\n",
    "from tensorflow.keras import losses"
   ]
  },
  {
   "cell_type": "code",
   "execution_count": 2,
   "id": "5a764fee",
   "metadata": {},
   "outputs": [],
   "source": [
    "#hmf = pd.read_csv('/home/jazhiel/ML_Notebooks/Datasets/HMF_fit.csv')\n",
    "#hmf = hmf.drop(['Unnamed: 0'], axis=1)\n",
    "#dataset_1 = hmf.copy()\n",
    "#dataset_1\n",
    "\n",
    "\n",
    "hmf_new = pd.read_csv('HMF_theor.csv')\n",
    "hmf_new = hmf_new.drop(['Unnamed: 0'], axis=1)\n",
    "\n",
    "dataset = hmf_new.copy()\n",
    "\n",
    "\n",
    "x = dataset['log_10(mvir)'].values\n",
    "y = dataset['n(>M)'].values\n",
    "\n"
   ]
  },
  {
   "cell_type": "code",
   "execution_count": 3,
   "id": "93eb04df",
   "metadata": {},
   "outputs": [
    {
     "data": {
      "text/html": [
       "<div>\n",
       "<style scoped>\n",
       "    .dataframe tbody tr th:only-of-type {\n",
       "        vertical-align: middle;\n",
       "    }\n",
       "\n",
       "    .dataframe tbody tr th {\n",
       "        vertical-align: top;\n",
       "    }\n",
       "\n",
       "    .dataframe thead th {\n",
       "        text-align: right;\n",
       "    }\n",
       "</style>\n",
       "<table border=\"1\" class=\"dataframe\">\n",
       "  <thead>\n",
       "    <tr style=\"text-align: right;\">\n",
       "      <th></th>\n",
       "      <th>log_10(mvir)</th>\n",
       "      <th>n(&gt;M)</th>\n",
       "    </tr>\n",
       "  </thead>\n",
       "  <tbody>\n",
       "    <tr>\n",
       "      <th>0</th>\n",
       "      <td>1.000000e+10</td>\n",
       "      <td>2.543783e-01</td>\n",
       "    </tr>\n",
       "    <tr>\n",
       "      <th>1</th>\n",
       "      <td>1.122018e+10</td>\n",
       "      <td>2.298566e-01</td>\n",
       "    </tr>\n",
       "    <tr>\n",
       "      <th>2</th>\n",
       "      <td>1.258925e+10</td>\n",
       "      <td>2.077056e-01</td>\n",
       "    </tr>\n",
       "    <tr>\n",
       "      <th>3</th>\n",
       "      <td>1.412538e+10</td>\n",
       "      <td>1.876949e-01</td>\n",
       "    </tr>\n",
       "    <tr>\n",
       "      <th>4</th>\n",
       "      <td>1.584893e+10</td>\n",
       "      <td>1.696162e-01</td>\n",
       "    </tr>\n",
       "    <tr>\n",
       "      <th>...</th>\n",
       "      <td>...</td>\n",
       "      <td>...</td>\n",
       "    </tr>\n",
       "    <tr>\n",
       "      <th>95</th>\n",
       "      <td>5.623413e+14</td>\n",
       "      <td>1.997294e-06</td>\n",
       "    </tr>\n",
       "    <tr>\n",
       "      <th>96</th>\n",
       "      <td>6.309573e+14</td>\n",
       "      <td>1.556080e-06</td>\n",
       "    </tr>\n",
       "    <tr>\n",
       "      <th>97</th>\n",
       "      <td>7.079458e+14</td>\n",
       "      <td>1.199768e-06</td>\n",
       "    </tr>\n",
       "    <tr>\n",
       "      <th>98</th>\n",
       "      <td>7.943282e+14</td>\n",
       "      <td>9.146886e-07</td>\n",
       "    </tr>\n",
       "    <tr>\n",
       "      <th>99</th>\n",
       "      <td>8.912509e+14</td>\n",
       "      <td>6.889011e-07</td>\n",
       "    </tr>\n",
       "  </tbody>\n",
       "</table>\n",
       "<p>100 rows × 2 columns</p>\n",
       "</div>"
      ],
      "text/plain": [
       "    log_10(mvir)         n(>M)\n",
       "0   1.000000e+10  2.543783e-01\n",
       "1   1.122018e+10  2.298566e-01\n",
       "2   1.258925e+10  2.077056e-01\n",
       "3   1.412538e+10  1.876949e-01\n",
       "4   1.584893e+10  1.696162e-01\n",
       "..           ...           ...\n",
       "95  5.623413e+14  1.997294e-06\n",
       "96  6.309573e+14  1.556080e-06\n",
       "97  7.079458e+14  1.199768e-06\n",
       "98  7.943282e+14  9.146886e-07\n",
       "99  8.912509e+14  6.889011e-07\n",
       "\n",
       "[100 rows x 2 columns]"
      ]
     },
     "execution_count": 3,
     "metadata": {},
     "output_type": "execute_result"
    }
   ],
   "source": [
    "dataset"
   ]
  },
  {
   "cell_type": "code",
   "execution_count": 4,
   "id": "b46fd151",
   "metadata": {},
   "outputs": [
    {
     "data": {
      "text/plain": [
       "<matplotlib.collections.PathCollection at 0x7fd93c3f0340>"
      ]
     },
     "execution_count": 4,
     "metadata": {},
     "output_type": "execute_result"
    },
    {
     "data": {
      "image/png": "[encoded data removed]",
      "text/plain": [
       "<Figure size 432x288 with 1 Axes>"
      ]
     },
     "metadata": {
      "needs_background": "light"
     },
     "output_type": "display_data"
    }
   ],
   "source": [
    "plt.yscale('log')\n",
    "plt.xscale('log')\n",
    "\n",
    "plt.scatter(hmf_new['log_10(mvir)'], hmf_new['n(>M)'], c = 'purple')"
   ]
  },
  {
   "cell_type": "code",
   "execution_count": 5,
   "id": "ea605eee",
   "metadata": {},
   "outputs": [
    {
     "data": {
      "text/plain": [
       "<seaborn.axisgrid.PairGrid at 0x7fd932f1ae90>"
      ]
     },
     "execution_count": 5,
     "metadata": {},
     "output_type": "execute_result"
    },
    {
     "data": {
      "image/png": "[encoded data removed]",
      "text/plain": [
       "<Figure size 360x360 with 6 Axes>"
      ]
     },
     "metadata": {
      "needs_background": "light"
     },
     "output_type": "display_data"
    }
   ],
   "source": [
    "sns.pairplot(dataset, diag_kind=\"kde\")\n",
    "\n",
    "# plt.savefig(\"DistHD.png\")\n",
    "\n"
   ]
  },
  {
   "cell_type": "code",
   "execution_count": 6,
   "id": "d890d217",
   "metadata": {},
   "outputs": [],
   "source": [
    "randomize = np.random.permutation(len(dataset.values))\n",
    "data = dataset.values[randomize]\n",
    "\n",
    "# Define a size for your train set \n",
    "split = 0.8\n",
    "ntrain = int(split * len(data))\n",
    "indx = [ntrain]\n",
    "train_set, test_set = np.split(data, indx)\n",
    "\n",
    "split = 0.5\n",
    "ntrain = int(split * len(test_set))\n",
    "indx = [ntrain]\n",
    "validation_set, test_test = np.split(test_set, indx)"
   ]
  },
  {
   "cell_type": "code",
   "execution_count": 7,
   "id": "cfa6b8b3",
   "metadata": {},
   "outputs": [],
   "source": [
    "X_train = train_set[:, :-1]\n",
    "y_train = train_set[:, -1]\n",
    "\n",
    "X_val = validation_set[:, :-1]\n",
    "y_val = validation_set[:, -1]\n",
    "\n",
    "X_test = test_set[:, :-1]\n",
    "y_test = test_set[:, -1]"
   ]
  },
  {
   "cell_type": "code",
   "execution_count": 14,
   "id": "9fd87837",
   "metadata": {},
   "outputs": [
    {
     "name": "stdout",
     "output_type": "stream",
     "text": [
      "(20, 1)\n",
      "(20,)\n"
     ]
    },
    {
     "data": {
      "text/plain": [
       "(array([4.63996051]),\n",
       " array([-0.42999829]),\n",
       " 0.2543783303196589,\n",
       " 6.889011444267326e-07)"
      ]
     },
     "execution_count": 14,
     "metadata": {},
     "output_type": "execute_result"
    }
   ],
   "source": [
    "print(X_test.shape)\n",
    "print(y_test.shape)\n",
    "max(X_train), min(X_train), max(y_train), min(y_train)"
   ]
  },
  {
   "cell_type": "code",
   "execution_count": 16,
   "id": "93561142",
   "metadata": {},
   "outputs": [],
   "source": [
    "from sklearn.preprocessing import StandardScaler\n",
    "from sklearn.preprocessing import MinMaxScaler\n",
    "\n",
    "xscaler = StandardScaler()\n",
    "yscaler = StandardScaler()\n",
    "#xscaler =   MinMaxScaler()\n",
    "# scalerz = MinMaxScaler(feature_range=(-1,1))\n",
    "# fit scaler on data\n",
    "xscaler.fit(X_train)\n",
    "yscaler.fit(y_train.reshape(-1, 1))\n",
    "# apply transform\n",
    "X_train = xscaler.transform(X_train)\n",
    "X_val = xscaler.transform(X_val)\n",
    "X_test = xscaler.transform(X_test)\n",
    "\n",
    "y_train = yscaler.transform(y_train.reshape(-1, 1))\n",
    "y_val = yscaler.transform(y_val.reshape(-1, 1))\n",
    "y_test = yscaler.transform(y_test.reshape(-1, 1))"
   ]
  },
  {
   "cell_type": "code",
   "execution_count": 17,
   "id": "022a5124",
   "metadata": {},
   "outputs": [],
   "source": [
    "callbacks = [tf.keras.callbacks.EarlyStopping(monitor='val_loss', mode='min',\n",
    "                                   min_delta=0.0,\n",
    "                                   patience=50.0,\n",
    "                                   restore_best_weights=True)]"
   ]
  },
  {
   "cell_type": "code",
   "execution_count": 18,
   "id": "8eef00cb",
   "metadata": {},
   "outputs": [],
   "source": [
    "def ann_model(ninput=1, n_nodes1=100, n_nodes2=100, n_nodes3=100, dropout=0.5):\n",
    "    model = models.Sequential()\n",
    "    model.add(layers.Dense(n_nodes1,activation='relu',input_shape=(ninput,)))\n",
    "    model.add(layers.Dropout(dropout))\n",
    "    model.add(layers.Dense(n_nodes2,activation='relu'))\n",
    "    model.add(layers.Dropout(dropout))\n",
    "    model.add(layers.Dense(n_nodes3,activation='relu'))\n",
    "    model.add(layers.Dropout(dropout))\n",
    "    model.add(layers.Dense(1, activation='linear'))\n",
    "\n",
    "    model.compile(optimizer=optimizers.Adam(lr=1e-3),#RMSprop(lr=0.001),\n",
    "                        loss='mae',\n",
    "                        metrics=['mae', 'mse'])\n",
    "\n",
    "\n",
    "#     test1_model.summary()\n",
    "    return model"
   ]
  },
  {
   "cell_type": "code",
   "execution_count": 19,
   "id": "09477da6",
   "metadata": {},
   "outputs": [],
   "source": [
    "# dropout = grid_result.best_params_['dropout']\n",
    "dropout = 0.3\n",
    "# n_nodes1 = grid_result.best_params_['n_nodes1']\n",
    "n_nodes1 = 100\n",
    "# n_nodes2 = grid_result.best_params_['n_nodes2']\n",
    "n_nodes2 = 200\n",
    "# n_nodes3 = grid_result.best_params_['n_nodes3']\n",
    "n_nodes3 = 150"
   ]
  },
  {
   "cell_type": "code",
   "execution_count": 20,
   "id": "9e869f96",
   "metadata": {
    "scrolled": true
   },
   "outputs": [
    {
     "name": "stderr",
     "output_type": "stream",
     "text": [
      "2022-11-03 20:03:08.849127: W tensorflow/stream_executor/platform/default/dso_loader.cc:64] Could not load dynamic library 'libcuda.so.1'; dlerror: libcuda.so.1: cannot open shared object file: No such file or directory\n",
      "2022-11-03 20:03:08.849758: W tensorflow/stream_executor/cuda/cuda_driver.cc:263] failed call to cuInit: UNKNOWN ERROR (303)\n",
      "2022-11-03 20:03:08.849868: I tensorflow/stream_executor/cuda/cuda_diagnostics.cc:169] retrieving CUDA diagnostic information for host: isidro-pc\n",
      "2022-11-03 20:03:08.849895: I tensorflow/stream_executor/cuda/cuda_diagnostics.cc:176] hostname: isidro-pc\n",
      "2022-11-03 20:03:08.850115: I tensorflow/stream_executor/cuda/cuda_diagnostics.cc:200] libcuda reported version is: NOT_FOUND: was unable to find libcuda.so DSO loaded into this program\n",
      "2022-11-03 20:03:08.850225: I tensorflow/stream_executor/cuda/cuda_diagnostics.cc:204] kernel reported version is: 510.85.2\n",
      "2022-11-03 20:03:08.851470: I tensorflow/core/platform/cpu_feature_guard.cc:193] This TensorFlow binary is optimized with oneAPI Deep Neural Network Library (oneDNN) to use the following CPU instructions in performance-critical operations:  AVX2 FMA\n",
      "To enable them in other operations, rebuild TensorFlow with the appropriate compiler flags.\n",
      "/home/isidro/.local/lib/python3.10/site-packages/keras/optimizers/optimizer_v2/adam.py:114: UserWarning: The `lr` argument is deprecated, use `learning_rate` instead.\n",
      "  super().__init__(name, **kwargs)\n"
     ]
    },
    {
     "name": "stdout",
     "output_type": "stream",
     "text": [
      "Epoch 1/120\n",
      "16/16 [==============================] - 1s 10ms/step - loss: 0.6291 - mae: 0.6291 - mse: 0.9946 - val_loss: 0.5132 - val_mae: 0.5132 - val_mse: 0.9260\n",
      "Epoch 2/120\n",
      "16/16 [==============================] - 0s 3ms/step - loss: 0.5443 - mae: 0.5443 - mse: 1.0777 - val_loss: 0.4920 - val_mae: 0.4920 - val_mse: 1.0150\n",
      "Epoch 3/120\n",
      "16/16 [==============================] - 0s 2ms/step - loss: 0.5338 - mae: 0.5338 - mse: 1.1730 - val_loss: 0.4829 - val_mae: 0.4829 - val_mse: 1.0060\n",
      "Epoch 4/120\n",
      "16/16 [==============================] - 0s 2ms/step - loss: 0.5360 - mae: 0.5360 - mse: 1.0842 - val_loss: 0.4986 - val_mae: 0.4986 - val_mse: 0.9657\n",
      "Epoch 5/120\n",
      "16/16 [==============================] - 0s 2ms/step - loss: 0.5202 - mae: 0.5202 - mse: 1.0935 - val_loss: 0.4460 - val_mae: 0.4460 - val_mse: 1.0089\n",
      "Epoch 6/120\n",
      "16/16 [==============================] - 0s 2ms/step - loss: 0.5192 - mae: 0.5192 - mse: 1.1864 - val_loss: 0.4072 - val_mae: 0.4072 - val_mse: 1.0008\n",
      "Epoch 7/120\n",
      "16/16 [==============================] - 0s 2ms/step - loss: 0.5130 - mae: 0.5130 - mse: 1.1421 - val_loss: 0.4275 - val_mae: 0.4275 - val_mse: 0.9681\n",
      "Epoch 8/120\n",
      "16/16 [==============================] - 0s 2ms/step - loss: 0.5152 - mae: 0.5152 - mse: 1.0822 - val_loss: 0.4268 - val_mae: 0.4268 - val_mse: 0.9700\n",
      "Epoch 9/120\n",
      "16/16 [==============================] - 0s 2ms/step - loss: 0.5062 - mae: 0.5062 - mse: 1.1741 - val_loss: 0.3633 - val_mae: 0.3633 - val_mse: 0.9868\n",
      "Epoch 10/120\n",
      "16/16 [==============================] - 0s 2ms/step - loss: 0.4870 - mae: 0.4870 - mse: 1.1248 - val_loss: 0.3836 - val_mae: 0.3836 - val_mse: 0.9722\n",
      "Epoch 11/120\n",
      "16/16 [==============================] - 0s 3ms/step - loss: 0.4862 - mae: 0.4862 - mse: 1.1077 - val_loss: 0.3692 - val_mae: 0.3692 - val_mse: 0.9554\n",
      "Epoch 12/120\n",
      "16/16 [==============================] - 0s 3ms/step - loss: 0.5061 - mae: 0.5061 - mse: 1.0941 - val_loss: 0.3547 - val_mae: 0.3547 - val_mse: 0.9615\n",
      "Epoch 13/120\n",
      "16/16 [==============================] - 0s 2ms/step - loss: 0.4946 - mae: 0.4946 - mse: 1.1151 - val_loss: 0.3992 - val_mae: 0.3992 - val_mse: 0.9675\n",
      "Epoch 14/120\n",
      "16/16 [==============================] - 0s 3ms/step - loss: 0.5068 - mae: 0.5068 - mse: 1.1735 - val_loss: 0.3684 - val_mae: 0.3684 - val_mse: 1.0134\n",
      "Epoch 15/120\n",
      "16/16 [==============================] - 0s 3ms/step - loss: 0.4916 - mae: 0.4916 - mse: 1.0928 - val_loss: 0.3754 - val_mae: 0.3754 - val_mse: 0.9275\n",
      "Epoch 16/120\n",
      "16/16 [==============================] - 0s 2ms/step - loss: 0.4888 - mae: 0.4888 - mse: 1.0941 - val_loss: 0.3839 - val_mae: 0.3839 - val_mse: 0.9703\n",
      "Epoch 17/120\n",
      "16/16 [==============================] - 0s 2ms/step - loss: 0.4940 - mae: 0.4940 - mse: 1.1763 - val_loss: 0.3763 - val_mae: 0.3763 - val_mse: 0.9488\n",
      "Epoch 18/120\n",
      "16/16 [==============================] - 0s 2ms/step - loss: 0.4831 - mae: 0.4831 - mse: 1.0598 - val_loss: 0.3758 - val_mae: 0.3758 - val_mse: 0.9307\n",
      "Epoch 19/120\n",
      "16/16 [==============================] - 0s 2ms/step - loss: 0.4904 - mae: 0.4904 - mse: 1.1310 - val_loss: 0.3851 - val_mae: 0.3851 - val_mse: 0.9635\n",
      "Epoch 20/120\n",
      "16/16 [==============================] - 0s 2ms/step - loss: 0.4730 - mae: 0.4730 - mse: 1.1209 - val_loss: 0.3552 - val_mae: 0.3552 - val_mse: 0.9512\n",
      "Epoch 21/120\n",
      "16/16 [==============================] - 0s 2ms/step - loss: 0.4780 - mae: 0.4780 - mse: 1.0731 - val_loss: 0.3601 - val_mae: 0.3601 - val_mse: 0.9498\n",
      "Epoch 22/120\n",
      "16/16 [==============================] - 0s 2ms/step - loss: 0.4763 - mae: 0.4763 - mse: 1.0778 - val_loss: 0.3838 - val_mae: 0.3838 - val_mse: 0.9240\n",
      "Epoch 23/120\n",
      "16/16 [==============================] - 0s 2ms/step - loss: 0.4890 - mae: 0.4890 - mse: 1.0631 - val_loss: 0.3794 - val_mae: 0.3794 - val_mse: 0.9441\n",
      "Epoch 24/120\n",
      "16/16 [==============================] - 0s 2ms/step - loss: 0.4895 - mae: 0.4895 - mse: 1.1084 - val_loss: 0.3752 - val_mae: 0.3752 - val_mse: 0.9523\n",
      "Epoch 25/120\n",
      "16/16 [==============================] - 0s 2ms/step - loss: 0.4836 - mae: 0.4836 - mse: 1.1221 - val_loss: 0.3775 - val_mae: 0.3775 - val_mse: 0.9471\n",
      "Epoch 26/120\n",
      "16/16 [==============================] - 0s 2ms/step - loss: 0.4934 - mae: 0.4934 - mse: 1.1135 - val_loss: 0.4038 - val_mae: 0.4038 - val_mse: 0.9472\n",
      "Epoch 27/120\n",
      "16/16 [==============================] - 0s 2ms/step - loss: 0.4861 - mae: 0.4861 - mse: 1.0772 - val_loss: 0.3468 - val_mae: 0.3468 - val_mse: 0.9401\n",
      "Epoch 28/120\n",
      "16/16 [==============================] - 0s 2ms/step - loss: 0.4800 - mae: 0.4800 - mse: 1.0868 - val_loss: 0.3419 - val_mae: 0.3419 - val_mse: 0.9337\n",
      "Epoch 29/120\n",
      "16/16 [==============================] - 0s 2ms/step - loss: 0.4951 - mae: 0.4951 - mse: 1.1277 - val_loss: 0.3533 - val_mae: 0.3533 - val_mse: 0.9805\n",
      "Epoch 30/120\n",
      "16/16 [==============================] - 0s 3ms/step - loss: 0.4871 - mae: 0.4871 - mse: 1.0926 - val_loss: 0.3658 - val_mae: 0.3658 - val_mse: 0.9426\n",
      "Epoch 31/120\n",
      "16/16 [==============================] - 0s 3ms/step - loss: 0.4807 - mae: 0.4807 - mse: 1.1007 - val_loss: 0.3639 - val_mae: 0.3639 - val_mse: 0.9827\n",
      "Epoch 32/120\n",
      "16/16 [==============================] - 0s 3ms/step - loss: 0.4728 - mae: 0.4728 - mse: 1.1042 - val_loss: 0.3773 - val_mae: 0.3773 - val_mse: 0.9378\n",
      "Epoch 33/120\n",
      "16/16 [==============================] - 0s 3ms/step - loss: 0.4836 - mae: 0.4836 - mse: 1.1061 - val_loss: 0.3549 - val_mae: 0.3549 - val_mse: 0.9377\n",
      "Epoch 34/120\n",
      "16/16 [==============================] - 0s 3ms/step - loss: 0.4822 - mae: 0.4822 - mse: 1.0919 - val_loss: 0.3505 - val_mae: 0.3505 - val_mse: 0.9660\n",
      "Epoch 35/120\n",
      "16/16 [==============================] - 0s 2ms/step - loss: 0.4827 - mae: 0.4827 - mse: 1.1254 - val_loss: 0.3690 - val_mae: 0.3690 - val_mse: 0.9826\n",
      "Epoch 36/120\n",
      "16/16 [==============================] - 0s 2ms/step - loss: 0.4759 - mae: 0.4759 - mse: 1.0917 - val_loss: 0.3541 - val_mae: 0.3541 - val_mse: 0.9248\n",
      "Epoch 37/120\n",
      "16/16 [==============================] - 0s 2ms/step - loss: 0.4762 - mae: 0.4762 - mse: 1.0571 - val_loss: 0.3437 - val_mae: 0.3437 - val_mse: 0.9460\n",
      "Epoch 38/120\n",
      "16/16 [==============================] - 0s 2ms/step - loss: 0.4829 - mae: 0.4829 - mse: 1.1219 - val_loss: 0.3421 - val_mae: 0.3421 - val_mse: 0.9442\n",
      "Epoch 39/120\n",
      "16/16 [==============================] - 0s 3ms/step - loss: 0.4834 - mae: 0.4834 - mse: 1.0279 - val_loss: 0.3343 - val_mae: 0.3343 - val_mse: 0.9172\n",
      "Epoch 40/120\n",
      "16/16 [==============================] - 0s 2ms/step - loss: 0.4916 - mae: 0.4916 - mse: 1.1579 - val_loss: 0.3558 - val_mae: 0.3558 - val_mse: 0.9669\n",
      "Epoch 41/120\n",
      "16/16 [==============================] - 0s 3ms/step - loss: 0.4790 - mae: 0.4790 - mse: 1.0691 - val_loss: 0.3724 - val_mae: 0.3724 - val_mse: 0.9137\n",
      "Epoch 42/120\n",
      "16/16 [==============================] - 0s 2ms/step - loss: 0.4845 - mae: 0.4845 - mse: 1.1144 - val_loss: 0.3435 - val_mae: 0.3435 - val_mse: 0.9644\n",
      "Epoch 43/120\n",
      "16/16 [==============================] - 0s 2ms/step - loss: 0.4749 - mae: 0.4749 - mse: 1.0920 - val_loss: 0.3418 - val_mae: 0.3418 - val_mse: 0.9369\n",
      "Epoch 44/120\n",
      "16/16 [==============================] - 0s 3ms/step - loss: 0.4735 - mae: 0.4735 - mse: 1.0617 - val_loss: 0.3538 - val_mae: 0.3538 - val_mse: 0.9311\n",
      "Epoch 45/120\n",
      "16/16 [==============================] - 0s 3ms/step - loss: 0.4696 - mae: 0.4696 - mse: 1.1101 - val_loss: 0.3438 - val_mae: 0.3438 - val_mse: 0.9716\n",
      "Epoch 46/120\n",
      "16/16 [==============================] - 0s 3ms/step - loss: 0.4851 - mae: 0.4851 - mse: 1.0687 - val_loss: 0.3418 - val_mae: 0.3418 - val_mse: 0.9057\n",
      "Epoch 47/120\n",
      "16/16 [==============================] - 0s 3ms/step - loss: 0.4740 - mae: 0.4740 - mse: 1.1061 - val_loss: 0.3378 - val_mae: 0.3378 - val_mse: 0.9420\n",
      "Epoch 48/120\n",
      "16/16 [==============================] - 0s 3ms/step - loss: 0.4778 - mae: 0.4778 - mse: 1.0799 - val_loss: 0.3381 - val_mae: 0.3381 - val_mse: 0.9404\n",
      "Epoch 49/120\n",
      "16/16 [==============================] - 0s 3ms/step - loss: 0.4722 - mae: 0.4722 - mse: 1.0777 - val_loss: 0.3410 - val_mae: 0.3410 - val_mse: 0.9548\n",
      "Epoch 50/120\n",
      "16/16 [==============================] - 0s 3ms/step - loss: 0.4764 - mae: 0.4764 - mse: 1.1140 - val_loss: 0.3336 - val_mae: 0.3336 - val_mse: 0.9351\n",
      "Epoch 51/120\n"
     ]
    },
    {
     "name": "stdout",
     "output_type": "stream",
     "text": [
      "16/16 [==============================] - 0s 3ms/step - loss: 0.4654 - mae: 0.4654 - mse: 1.0628 - val_loss: 0.3406 - val_mae: 0.3406 - val_mse: 0.9503\n",
      "Epoch 52/120\n",
      "16/16 [==============================] - 0s 3ms/step - loss: 0.4673 - mae: 0.4673 - mse: 1.1067 - val_loss: 0.3349 - val_mae: 0.3349 - val_mse: 0.9416\n",
      "Epoch 53/120\n",
      "16/16 [==============================] - 0s 2ms/step - loss: 0.4728 - mae: 0.4728 - mse: 1.0963 - val_loss: 0.3387 - val_mae: 0.3387 - val_mse: 0.9395\n",
      "Epoch 54/120\n",
      "16/16 [==============================] - 0s 3ms/step - loss: 0.4683 - mae: 0.4683 - mse: 1.0839 - val_loss: 0.3323 - val_mae: 0.3323 - val_mse: 0.9104\n",
      "Epoch 55/120\n",
      "16/16 [==============================] - 0s 2ms/step - loss: 0.4613 - mae: 0.4613 - mse: 1.0697 - val_loss: 0.3233 - val_mae: 0.3233 - val_mse: 0.9088\n",
      "Epoch 56/120\n",
      "16/16 [==============================] - 0s 2ms/step - loss: 0.4713 - mae: 0.4713 - mse: 1.0595 - val_loss: 0.3376 - val_mae: 0.3376 - val_mse: 0.9293\n",
      "Epoch 57/120\n",
      "16/16 [==============================] - 0s 2ms/step - loss: 0.4647 - mae: 0.4647 - mse: 1.0968 - val_loss: 0.3333 - val_mae: 0.3333 - val_mse: 0.9181\n",
      "Epoch 58/120\n",
      "16/16 [==============================] - 0s 2ms/step - loss: 0.4697 - mae: 0.4697 - mse: 1.0223 - val_loss: 0.3402 - val_mae: 0.3402 - val_mse: 0.9169\n",
      "Epoch 59/120\n",
      "16/16 [==============================] - 0s 2ms/step - loss: 0.4763 - mae: 0.4763 - mse: 1.0804 - val_loss: 0.3232 - val_mae: 0.3232 - val_mse: 0.9040\n",
      "Epoch 60/120\n",
      "16/16 [==============================] - 0s 2ms/step - loss: 0.4594 - mae: 0.4594 - mse: 1.0620 - val_loss: 0.3351 - val_mae: 0.3351 - val_mse: 0.9408\n",
      "Epoch 61/120\n",
      "16/16 [==============================] - 0s 2ms/step - loss: 0.4593 - mae: 0.4593 - mse: 1.0312 - val_loss: 0.3229 - val_mae: 0.3229 - val_mse: 0.9007\n",
      "Epoch 62/120\n",
      "16/16 [==============================] - 0s 2ms/step - loss: 0.4722 - mae: 0.4722 - mse: 1.0670 - val_loss: 0.3284 - val_mae: 0.3284 - val_mse: 0.9336\n",
      "Epoch 63/120\n",
      "16/16 [==============================] - 0s 2ms/step - loss: 0.4583 - mae: 0.4583 - mse: 1.0954 - val_loss: 0.3289 - val_mae: 0.3289 - val_mse: 0.9320\n",
      "Epoch 64/120\n",
      "16/16 [==============================] - 0s 2ms/step - loss: 0.4584 - mae: 0.4584 - mse: 1.0720 - val_loss: 0.3334 - val_mae: 0.3334 - val_mse: 0.8927\n",
      "Epoch 65/120\n",
      "16/16 [==============================] - 0s 3ms/step - loss: 0.4645 - mae: 0.4645 - mse: 1.0678 - val_loss: 0.3414 - val_mae: 0.3414 - val_mse: 0.9480\n",
      "Epoch 66/120\n",
      "16/16 [==============================] - 0s 3ms/step - loss: 0.4740 - mae: 0.4740 - mse: 1.0909 - val_loss: 0.3357 - val_mae: 0.3357 - val_mse: 0.9282\n",
      "Epoch 67/120\n",
      "16/16 [==============================] - 0s 3ms/step - loss: 0.4645 - mae: 0.4645 - mse: 1.1399 - val_loss: 0.3520 - val_mae: 0.3520 - val_mse: 0.9524\n",
      "Epoch 68/120\n",
      "16/16 [==============================] - 0s 3ms/step - loss: 0.4770 - mae: 0.4770 - mse: 1.0245 - val_loss: 0.3208 - val_mae: 0.3208 - val_mse: 0.8998\n",
      "Epoch 69/120\n",
      "16/16 [==============================] - 0s 2ms/step - loss: 0.4721 - mae: 0.4721 - mse: 1.0939 - val_loss: 0.3464 - val_mae: 0.3464 - val_mse: 0.9532\n",
      "Epoch 70/120\n",
      "16/16 [==============================] - 0s 2ms/step - loss: 0.4678 - mae: 0.4678 - mse: 1.0558 - val_loss: 0.3306 - val_mae: 0.3306 - val_mse: 0.9479\n",
      "Epoch 71/120\n",
      "16/16 [==============================] - 0s 3ms/step - loss: 0.4611 - mae: 0.4611 - mse: 1.0968 - val_loss: 0.3407 - val_mae: 0.3407 - val_mse: 0.9282\n",
      "Epoch 72/120\n",
      "16/16 [==============================] - 0s 2ms/step - loss: 0.4636 - mae: 0.4636 - mse: 1.0430 - val_loss: 0.3160 - val_mae: 0.3160 - val_mse: 0.8730\n",
      "Epoch 73/120\n",
      "16/16 [==============================] - 0s 2ms/step - loss: 0.4615 - mae: 0.4615 - mse: 1.0775 - val_loss: 0.3291 - val_mae: 0.3291 - val_mse: 0.9307\n",
      "Epoch 74/120\n",
      "16/16 [==============================] - 0s 3ms/step - loss: 0.4629 - mae: 0.4629 - mse: 1.0245 - val_loss: 0.3290 - val_mae: 0.3290 - val_mse: 0.8637\n",
      "Epoch 75/120\n",
      "16/16 [==============================] - 0s 2ms/step - loss: 0.4664 - mae: 0.4664 - mse: 1.0933 - val_loss: 0.3321 - val_mae: 0.3321 - val_mse: 0.9590\n",
      "Epoch 76/120\n",
      "16/16 [==============================] - 0s 3ms/step - loss: 0.4623 - mae: 0.4623 - mse: 1.0297 - val_loss: 0.3175 - val_mae: 0.3175 - val_mse: 0.8742\n",
      "Epoch 77/120\n",
      "16/16 [==============================] - 0s 2ms/step - loss: 0.4669 - mae: 0.4669 - mse: 1.0806 - val_loss: 0.3282 - val_mae: 0.3282 - val_mse: 0.9343\n",
      "Epoch 78/120\n",
      "16/16 [==============================] - 0s 2ms/step - loss: 0.4693 - mae: 0.4693 - mse: 1.0813 - val_loss: 0.3318 - val_mae: 0.3318 - val_mse: 0.9347\n",
      "Epoch 79/120\n",
      "16/16 [==============================] - 0s 2ms/step - loss: 0.4603 - mae: 0.4603 - mse: 1.0668 - val_loss: 0.3227 - val_mae: 0.3227 - val_mse: 0.9364\n",
      "Epoch 80/120\n",
      "16/16 [==============================] - 0s 2ms/step - loss: 0.4658 - mae: 0.4658 - mse: 1.0794 - val_loss: 0.3186 - val_mae: 0.3186 - val_mse: 0.9247\n",
      "Epoch 81/120\n",
      "16/16 [==============================] - 0s 3ms/step - loss: 0.4756 - mae: 0.4756 - mse: 1.0314 - val_loss: 0.3211 - val_mae: 0.3211 - val_mse: 0.9167\n",
      "Epoch 82/120\n",
      "16/16 [==============================] - 0s 2ms/step - loss: 0.4606 - mae: 0.4606 - mse: 1.1026 - val_loss: 0.3250 - val_mae: 0.3250 - val_mse: 0.9118\n",
      "Epoch 83/120\n",
      "16/16 [==============================] - 0s 2ms/step - loss: 0.4704 - mae: 0.4704 - mse: 1.0484 - val_loss: 0.3206 - val_mae: 0.3206 - val_mse: 0.8964\n",
      "Epoch 84/120\n",
      "16/16 [==============================] - 0s 2ms/step - loss: 0.4620 - mae: 0.4620 - mse: 1.0892 - val_loss: 0.3260 - val_mae: 0.3260 - val_mse: 0.9499\n",
      "Epoch 85/120\n",
      "16/16 [==============================] - 0s 2ms/step - loss: 0.4504 - mae: 0.4504 - mse: 1.0444 - val_loss: 0.3121 - val_mae: 0.3121 - val_mse: 0.8911\n",
      "Epoch 86/120\n",
      "16/16 [==============================] - 0s 3ms/step - loss: 0.4556 - mae: 0.4556 - mse: 1.0737 - val_loss: 0.3164 - val_mae: 0.3164 - val_mse: 0.9171\n",
      "Epoch 87/120\n",
      "16/16 [==============================] - 0s 3ms/step - loss: 0.4513 - mae: 0.4513 - mse: 1.0286 - val_loss: 0.3184 - val_mae: 0.3184 - val_mse: 0.8997\n",
      "Epoch 88/120\n",
      "16/16 [==============================] - 0s 3ms/step - loss: 0.4511 - mae: 0.4511 - mse: 1.0022 - val_loss: 0.3122 - val_mae: 0.3122 - val_mse: 0.9016\n",
      "Epoch 89/120\n",
      "16/16 [==============================] - 0s 3ms/step - loss: 0.4594 - mae: 0.4594 - mse: 1.0620 - val_loss: 0.3167 - val_mae: 0.3167 - val_mse: 0.9208\n",
      "Epoch 90/120\n",
      "16/16 [==============================] - 0s 3ms/step - loss: 0.4614 - mae: 0.4614 - mse: 1.0789 - val_loss: 0.3227 - val_mae: 0.3227 - val_mse: 0.9255\n",
      "Epoch 91/120\n",
      "16/16 [==============================] - 0s 2ms/step - loss: 0.4567 - mae: 0.4567 - mse: 1.0734 - val_loss: 0.3124 - val_mae: 0.3124 - val_mse: 0.9017\n",
      "Epoch 92/120\n",
      "16/16 [==============================] - 0s 2ms/step - loss: 0.4540 - mae: 0.4540 - mse: 1.0179 - val_loss: 0.3256 - val_mae: 0.3256 - val_mse: 0.9443\n",
      "Epoch 93/120\n",
      "16/16 [==============================] - 0s 3ms/step - loss: 0.4587 - mae: 0.4587 - mse: 1.0770 - val_loss: 0.3173 - val_mae: 0.3173 - val_mse: 0.9090\n",
      "Epoch 94/120\n",
      "16/16 [==============================] - 0s 3ms/step - loss: 0.4523 - mae: 0.4523 - mse: 1.0405 - val_loss: 0.3169 - val_mae: 0.3169 - val_mse: 0.8968\n",
      "Epoch 95/120\n",
      "16/16 [==============================] - 0s 3ms/step - loss: 0.4438 - mae: 0.4438 - mse: 1.0387 - val_loss: 0.3079 - val_mae: 0.3079 - val_mse: 0.8809\n",
      "Epoch 96/120\n",
      "16/16 [==============================] - 0s 3ms/step - loss: 0.4501 - mae: 0.4501 - mse: 1.0176 - val_loss: 0.3091 - val_mae: 0.3091 - val_mse: 0.8721\n",
      "Epoch 97/120\n",
      "16/16 [==============================] - 0s 3ms/step - loss: 0.4565 - mae: 0.4565 - mse: 1.0866 - val_loss: 0.3047 - val_mae: 0.3047 - val_mse: 0.8774\n",
      "Epoch 98/120\n",
      "16/16 [==============================] - 0s 3ms/step - loss: 0.4531 - mae: 0.4531 - mse: 1.0022 - val_loss: 0.3099 - val_mae: 0.3099 - val_mse: 0.8857\n",
      "Epoch 99/120\n",
      "16/16 [==============================] - 0s 3ms/step - loss: 0.4489 - mae: 0.4489 - mse: 1.0399 - val_loss: 0.3377 - val_mae: 0.3377 - val_mse: 0.9769\n",
      "Epoch 100/120\n",
      "16/16 [==============================] - 0s 3ms/step - loss: 0.4536 - mae: 0.4536 - mse: 1.0439 - val_loss: 0.3070 - val_mae: 0.3070 - val_mse: 0.8553\n",
      "Epoch 101/120\n"
     ]
    },
    {
     "name": "stdout",
     "output_type": "stream",
     "text": [
      "16/16 [==============================] - 0s 3ms/step - loss: 0.4485 - mae: 0.4485 - mse: 1.0394 - val_loss: 0.3235 - val_mae: 0.3235 - val_mse: 0.9322\n",
      "Epoch 102/120\n",
      "16/16 [==============================] - 0s 3ms/step - loss: 0.4547 - mae: 0.4547 - mse: 1.0063 - val_loss: 0.3215 - val_mae: 0.3215 - val_mse: 0.8421\n",
      "Epoch 103/120\n",
      "16/16 [==============================] - 0s 3ms/step - loss: 0.4349 - mae: 0.4349 - mse: 0.9910 - val_loss: 0.3079 - val_mae: 0.3079 - val_mse: 0.8818\n",
      "Epoch 104/120\n",
      "16/16 [==============================] - 0s 3ms/step - loss: 0.4479 - mae: 0.4479 - mse: 1.0293 - val_loss: 0.3141 - val_mae: 0.3141 - val_mse: 0.9040\n",
      "Epoch 105/120\n",
      "16/16 [==============================] - 0s 3ms/step - loss: 0.4440 - mae: 0.4440 - mse: 1.0657 - val_loss: 0.3160 - val_mae: 0.3160 - val_mse: 0.8942\n",
      "Epoch 106/120\n",
      "16/16 [==============================] - 0s 3ms/step - loss: 0.4642 - mae: 0.4642 - mse: 0.9253 - val_loss: 0.3188 - val_mae: 0.3188 - val_mse: 0.8109\n",
      "Epoch 107/120\n",
      "16/16 [==============================] - 0s 3ms/step - loss: 0.4434 - mae: 0.4434 - mse: 0.9746 - val_loss: 0.3048 - val_mae: 0.3048 - val_mse: 0.8606\n",
      "Epoch 108/120\n",
      "16/16 [==============================] - 0s 3ms/step - loss: 0.4387 - mae: 0.4387 - mse: 1.0082 - val_loss: 0.3304 - val_mae: 0.3304 - val_mse: 0.9523\n",
      "Epoch 109/120\n",
      "16/16 [==============================] - 0s 3ms/step - loss: 0.4439 - mae: 0.4439 - mse: 1.0355 - val_loss: 0.3031 - val_mae: 0.3031 - val_mse: 0.8825\n",
      "Epoch 110/120\n",
      "16/16 [==============================] - 0s 3ms/step - loss: 0.4538 - mae: 0.4538 - mse: 1.0251 - val_loss: 0.3136 - val_mae: 0.3136 - val_mse: 0.9056\n",
      "Epoch 111/120\n",
      "16/16 [==============================] - 0s 3ms/step - loss: 0.4668 - mae: 0.4668 - mse: 1.1088 - val_loss: 0.3166 - val_mae: 0.3166 - val_mse: 0.9205\n",
      "Epoch 112/120\n",
      "16/16 [==============================] - 0s 3ms/step - loss: 0.4494 - mae: 0.4494 - mse: 1.0375 - val_loss: 0.3179 - val_mae: 0.3179 - val_mse: 0.8747\n",
      "Epoch 113/120\n",
      "16/16 [==============================] - 0s 3ms/step - loss: 0.4503 - mae: 0.4503 - mse: 1.0021 - val_loss: 0.3075 - val_mae: 0.3075 - val_mse: 0.8957\n",
      "Epoch 114/120\n",
      "16/16 [==============================] - 0s 3ms/step - loss: 0.4457 - mae: 0.4457 - mse: 1.0185 - val_loss: 0.3092 - val_mae: 0.3092 - val_mse: 0.8308\n",
      "Epoch 115/120\n",
      "16/16 [==============================] - 0s 3ms/step - loss: 0.4626 - mae: 0.4626 - mse: 1.0190 - val_loss: 0.3161 - val_mae: 0.3161 - val_mse: 0.9176\n",
      "Epoch 116/120\n",
      "16/16 [==============================] - 0s 3ms/step - loss: 0.4434 - mae: 0.4434 - mse: 1.0265 - val_loss: 0.3048 - val_mae: 0.3048 - val_mse: 0.8747\n",
      "Epoch 117/120\n",
      "16/16 [==============================] - 0s 2ms/step - loss: 0.4564 - mae: 0.4564 - mse: 0.9640 - val_loss: 0.3078 - val_mae: 0.3078 - val_mse: 0.8765\n",
      "Epoch 118/120\n",
      "16/16 [==============================] - 0s 2ms/step - loss: 0.4576 - mae: 0.4576 - mse: 1.0760 - val_loss: 0.3161 - val_mae: 0.3161 - val_mse: 0.8546\n",
      "Epoch 119/120\n",
      "16/16 [==============================] - 0s 3ms/step - loss: 0.4569 - mae: 0.4569 - mse: 0.9818 - val_loss: 0.3178 - val_mae: 0.3178 - val_mse: 0.8891\n",
      "Epoch 120/120\n",
      "16/16 [==============================] - 0s 3ms/step - loss: 0.4541 - mae: 0.4541 - mse: 1.0854 - val_loss: 0.3051 - val_mae: 0.3051 - val_mse: 0.8799\n"
     ]
    }
   ],
   "source": [
    "neural_model = ann_model(n_nodes1=n_nodes1, n_nodes2=n_nodes2, n_nodes3=n_nodes3,\n",
    "                        dropout=dropout)\n",
    "\n",
    "estop = tf.keras.callbacks.EarlyStopping(monitor='val_loss', \n",
    "                                         patience=100, \n",
    "                                         restore_best_weights=True)\n",
    "\n",
    "lrdecay = tf.keras.callbacks.ReduceLROnPlateau(monitor='val_loss', \n",
    "                                               patience=2)\n",
    "callbacks = [estop, lrdecay]\n",
    "\n",
    "neural_model_history = neural_model.fit(X_train,\n",
    "                                      y_train,\n",
    "                                      epochs=120,\n",
    "                                      batch_size=5,\n",
    "                                      validation_data=(X_val,y_val),\n",
    "                                      verbose=1)#, #callbacks=callbacks)\n",
    "\n"
   ]
  },
  {
   "cell_type": "code",
   "execution_count": 21,
   "id": "a26c436a",
   "metadata": {},
   "outputs": [
    {
     "data": {
      "text/plain": [
       "<matplotlib.legend.Legend at 0x7fd93119f9d0>"
      ]
     },
     "execution_count": 21,
     "metadata": {},
     "output_type": "execute_result"
    },
    {
     "data": {
      "image/png": "[encoded data removed]",
      "text/plain": [
       "<Figure size 432x288 with 1 Axes>"
      ]
     },
     "metadata": {
      "needs_background": "light"
     },
     "output_type": "display_data"
    }
   ],
   "source": [
    "plt.plot(neural_model_history.history['mae'], color='r', )\n",
    "plt.plot(neural_model_history.history['val_mae'], color='g')\n",
    "\n",
    "\n",
    "plt.ylabel('Mean absolute error', fontsize=11)\n",
    "plt.xlabel('Epoch', fontsize=11)\n",
    "plt.legend(['training set', 'validation set'], loc='upper right', fontsize=12)"
   ]
  },
  {
   "cell_type": "code",
   "execution_count": 22,
   "id": "7e3733a3",
   "metadata": {},
   "outputs": [
    {
     "data": {
      "text/plain": [
       "<matplotlib.legend.Legend at 0x7fd932d460e0>"
      ]
     },
     "execution_count": 22,
     "metadata": {},
     "output_type": "execute_result"
    },
    {
     "data": {
      "image/png": "[encoded data removed]",
      "text/plain": [
       "<Figure size 432x288 with 1 Axes>"
      ]
     },
     "metadata": {
      "needs_background": "light"
     },
     "output_type": "display_data"
    }
   ],
   "source": [
    "plt.plot(neural_model_history.history['mse'], color='r', )\n",
    "plt.plot(neural_model_history.history['val_mse'], color='g')\n",
    "\n",
    "\n",
    "plt.ylabel('Mean square error', fontsize=11)\n",
    "plt.xlabel('Epoch', fontsize=11)\n",
    "plt.legend(['training set', 'validation set'], loc='upper right', fontsize=12)"
   ]
  },
  {
   "cell_type": "code",
   "execution_count": 23,
   "id": "101fc567",
   "metadata": {},
   "outputs": [
    {
     "name": "stdout",
     "output_type": "stream",
     "text": [
      "1/1 [==============================] - 0s 67ms/step\n",
      "Traning and Testing on raw data, all features \n",
      "\n"
     ]
    }
   ],
   "source": [
    "ypred2 = neural_model.predict(X_test)\n",
    "#####\n",
    "print('Traning and Testing on raw data, all features \\n');\n",
    "#### Model accuracy\n",
    "\n",
    "# print(\"Accuracy:\", metrics.accuracy_score(y_test, ypred2))"
   ]
  },
  {
   "cell_type": "code",
   "execution_count": 33,
   "id": "23ebafce",
   "metadata": {},
   "outputs": [],
   "source": [
    "#zor and yor are the original velues for z and [Hz, err]\n",
    "x_test_or = xscaler.inverse_transform(X_test)\n",
    "yor = yscaler.inverse_transform(ypred2.reshape(-1,1))"
   ]
  },
  {
   "cell_type": "code",
   "execution_count": 34,
   "id": "c7a5952d",
   "metadata": {},
   "outputs": [
    {
     "data": {
      "text/plain": [
       "array([[-0.42998356],\n",
       "       [-0.42996502],\n",
       "       [-0.42982871],\n",
       "       [-0.42965245],\n",
       "       [-0.42954818],\n",
       "       [-0.42862625],\n",
       "       [-0.42553652],\n",
       "       [-0.41576593],\n",
       "       [-0.38978261],\n",
       "       [-0.37316867],\n",
       "       [-0.28716272],\n",
       "       [-0.17595246],\n",
       "       [-0.14494724],\n",
       "       [-0.02732952],\n",
       "       [ 0.20822198],\n",
       "       [ 0.70497995],\n",
       "       [ 0.84347518],\n",
       "       [ 0.99886939],\n",
       "       [ 1.58835442],\n",
       "       [ 4.08860106]])"
      ]
     },
     "execution_count": 34,
     "metadata": {},
     "output_type": "execute_result"
    }
   ],
   "source": [
    "x_test_sort = np.sort(x_test_or.T, axis = 1)\n",
    "x_test_sort.T"
   ]
  },
  {
   "cell_type": "code",
   "execution_count": 29,
   "id": "7c9d7ad2",
   "metadata": {},
   "outputs": [],
   "source": [
    "lcdm = pd.read_csv('lcdm_counts.dat')\n",
    "#df.drop(['B', 'C'], axis=1)\n",
    "lcdm = lcdm.drop(['Unnamed: 0'], axis = 1)\n",
    "lcdm"
   ]
  },
  {
   "cell_type": "code",
   "execution_count": 38,
   "id": "10af1535",
   "metadata": {},
   "outputs": [
    {
     "data": {
      "text/plain": [
       "array([[0.00065454],\n",
       "       [0.01449963],\n",
       "       [0.00051468],\n",
       "       [0.00027638],\n",
       "       [0.00055696],\n",
       "       [0.00179343],\n",
       "       [0.0149184 ],\n",
       "       [0.00024321],\n",
       "       [0.00024467],\n",
       "       [0.00056923],\n",
       "       [0.00062267],\n",
       "       [0.01031525],\n",
       "       [0.00329992],\n",
       "       [0.01482199],\n",
       "       [0.00063136],\n",
       "       [0.00093787],\n",
       "       [0.01487642],\n",
       "       [0.01478979],\n",
       "       [0.01492405],\n",
       "       [0.01350519]], dtype=float32)"
      ]
     },
     "execution_count": 38,
     "metadata": {},
     "output_type": "execute_result"
    }
   ],
   "source": [
    "ypred2_sort = -np.sort(-yor, axis = -1)\n",
    "ypred2_sort"
   ]
  },
  {
   "cell_type": "code",
   "execution_count": 42,
   "id": "37ce3e13",
   "metadata": {},
   "outputs": [
    {
     "data": {
      "image/png": "[encoded data removed]",
      "text/plain": [
       "<Figure size 1000x700 with 1 Axes>"
      ]
     },
     "metadata": {
      "needs_background": "light"
     },
     "output_type": "display_data"
    }
   ],
   "source": [
    "\n",
    "\n",
    "plt.figure(figsize=(10, 7), dpi=100)\n",
    "\n",
    "plt.yscale('log')\n",
    "plt.xscale('log')\n",
    "\n",
    "plt.scatter(10**lcdm['log_10(M200c)'], lcdm['n(>M)'], c = 'purple')\n",
    "#plt.plot(10**lcdm['log_10(M200c)'], lcdm['n(>M)'], c = 'purple', linestyle = '--', linewidth = 2, label = '$\\Lambda$CDM simulation')\n",
    "plt.plot(10**lcdm['log_10(M200c)'], lcdm['n(>M)'], c = 'purple', linewidth=2, label='$\\Lambda$CDM simulation')\n",
    "\n",
    "\n",
    "#planck = np.loadtxt('/home/jazhiel/ML_Notebooks/YT_ensayo/Rockstar/LCDM/all_plots/mVector_PLANCK-SMT .txt')\n",
    "#plt.plot(planck[:,0], planck[:,8], 'g', label='Tinker (2008)', linewidth=2)\n",
    "\n",
    "profile = np.loadtxt('/home/jazhiel/ML_Notebooks/YT_ensayo/Rockstar/LCDM/all_plots/mVector_SIMULATION .txt')\n",
    "plt.plot(profile[:,0],profile[:,8],'r',label='Press-Schechter (1974) ',linewidth=2)\n",
    "#plt.legend(loc=0, prop={'size': 14})\n",
    "\n",
    "plt.scatter(x_test_sort.T,ypred2_sort.T)\n",
    "plt.plot(x_test_sort.T,ypred2_sort.T)\n",
    "#plt.scatter(x_test_sort.T,ypred2_sort.T[:,1])\n",
    "#plt.plot(x_test_sort.T,ypred2_sort.T[:,1])\n",
    "#plt.scatter(x_test_sort.T,ypred2_sort.T[:,2])\n",
    "#plt.plot(x_test_sort.T,ypred2_sort.T[:,2])\n",
    "#plt.scatter(x_test_sort.T,ypred2_sort.T[:,3])\n",
    "#plt.plot(x_test_sort.T,ypred2_sort.T[:,3])\n",
    "#plt.scatter(x_test_sort.T,ypred2_sort.T[:,4])\n",
    "#plt.plot(x_test_sort.T,ypred2_sort.T[:,4])\n",
    "\n",
    "\n",
    "plt.xlabel('$M_{vir}$ $[M_\\odot/h]$',fontsize=17)\n",
    "plt.ylabel('$n(>M)$  $[h^3 \\cdot Mpc^{-3}]$',fontsize=15)\n",
    "\n",
    "plt.xlim([3.e10,2.e14])\n",
    "plt.ylim([1.e-6,1.e-1])\n",
    "#plt.savefig('/home/jazhiel/Escritorio/Maestria/Machine_Learning/IMG_Tesis/HMF_SFDM_extended.png')\n",
    "plt.show()"
   ]
  },
  {
   "cell_type": "code",
   "execution_count": 401,
   "id": "2afd5f42",
   "metadata": {},
   "outputs": [
    {
     "data": {
      "text/plain": [
       "(1, 20)"
      ]
     },
     "execution_count": 401,
     "metadata": {},
     "output_type": "execute_result"
    }
   ],
   "source": [
    "x_test_sort.shape"
   ]
  },
  {
   "cell_type": "code",
   "execution_count": null,
   "id": "3ff2e75a",
   "metadata": {},
   "outputs": [],
   "source": [
    "ypred2_sort.shape"
   ]
  },
  {
   "cell_type": "code",
   "execution_count": null,
   "id": "c5517fdd",
   "metadata": {},
   "outputs": [],
   "source": []
  }
 ],
 "metadata": {
  "kernelspec": {
   "display_name": "Python 3 (ipykernel)",
   "language": "python",
   "name": "python3"
  },
  "language_info": {
   "codemirror_mode": {
    "name": "ipython",
    "version": 3
   },
   "file_extension": ".py",
   "mimetype": "text/x-python",
   "name": "python",
   "nbconvert_exporter": "python",
   "pygments_lexer": "ipython3",
   "version": "3.10.6"
  }
 },
 "nbformat": 4,
 "nbformat_minor": 5
}
