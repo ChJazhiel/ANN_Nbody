{
 "cells": [
  {
   "cell_type": "code",
   "execution_count": 1,
   "id": "2afe8dbd",
   "metadata": {},
   "outputs": [
    {
     "name": "stderr",
     "output_type": "stream",
     "text": [
      "2022-10-31 20:49:27.412661: I tensorflow/core/platform/cpu_feature_guard.cc:193] This TensorFlow binary is optimized with oneAPI Deep Neural Network Library (oneDNN) to use the following CPU instructions in performance-critical operations:  AVX2 FMA\n",
      "To enable them in other operations, rebuild TensorFlow with the appropriate compiler flags.\n",
      "2022-10-31 20:49:31.684256: W tensorflow/stream_executor/platform/default/dso_loader.cc:64] Could not load dynamic library 'libcudart.so.11.0'; dlerror: libcudart.so.11.0: cannot open shared object file: No such file or directory; LD_LIBRARY_PATH: /home/jazhiel/Root/root/lib\n",
      "2022-10-31 20:49:31.684301: I tensorflow/stream_executor/cuda/cudart_stub.cc:29] Ignore above cudart dlerror if you do not have a GPU set up on your machine.\n",
      "2022-10-31 20:49:32.066463: E tensorflow/stream_executor/cuda/cuda_blas.cc:2981] Unable to register cuBLAS factory: Attempting to register factory for plugin cuBLAS when one has already been registered\n",
      "2022-10-31 20:49:40.024319: W tensorflow/stream_executor/platform/default/dso_loader.cc:64] Could not load dynamic library 'libnvinfer.so.7'; dlerror: libnvinfer.so.7: cannot open shared object file: No such file or directory; LD_LIBRARY_PATH: /home/jazhiel/Root/root/lib\n",
      "2022-10-31 20:49:40.024776: W tensorflow/stream_executor/platform/default/dso_loader.cc:64] Could not load dynamic library 'libnvinfer_plugin.so.7'; dlerror: libnvinfer_plugin.so.7: cannot open shared object file: No such file or directory; LD_LIBRARY_PATH: /home/jazhiel/Root/root/lib\n",
      "2022-10-31 20:49:40.024793: W tensorflow/compiler/tf2tensorrt/utils/py_utils.cc:38] TF-TRT Warning: Cannot dlopen some TensorRT libraries. If you would like to use Nvidia GPU with TensorRT, please make sure the missing libraries mentioned above are installed properly.\n"
     ]
    }
   ],
   "source": [
    "import pathlib\n",
    "\n",
    "import matplotlib.pyplot as plt\n",
    "import pandas as pd\n",
    "import seaborn as sns\n",
    "\n",
    "import numpy as np\n",
    "\n",
    "\n",
    "import tensorflow as tf\n",
    "from tensorflow.keras.layers import Dense, Flatten, Conv2D\n",
    "from tensorflow.keras import Model\n",
    "from tensorflow.keras import layers\n",
    "from tensorflow.keras import models\n",
    "from tensorflow.keras import optimizers\n",
    "from tensorflow.keras import losses"
   ]
  },
  {
   "cell_type": "code",
   "execution_count": 2,
   "id": "5a764fee",
   "metadata": {},
   "outputs": [],
   "source": [
    "#hmf = pd.read_csv('/home/jazhiel/ML_Notebooks/Datasets/HMF_fit.csv')\n",
    "#hmf = hmf.drop(['Unnamed: 0'], axis=1)\n",
    "#dataset_1 = hmf.copy()\n",
    "#dataset_1\n",
    "\n",
    "\n",
    "hmf_new = pd.read_csv('/home/jazhiel/ML_Notebooks/Datasets/HMF_theor.csv')\n",
    "hmf_new = hmf_new.drop(['Unnamed: 0'], axis=1)\n",
    "\n",
    "dataset = hmf_new.copy()\n",
    "\n",
    "\n",
    "x = dataset['log_10(mvir)'].values\n",
    "y = dataset['n(>M)'].values\n",
    "\n"
   ]
  },
  {
   "cell_type": "code",
   "execution_count": 3,
   "id": "93eb04df",
   "metadata": {},
   "outputs": [
    {
     "data": {
      "text/html": [
       "<div>\n",
       "<style scoped>\n",
       "    .dataframe tbody tr th:only-of-type {\n",
       "        vertical-align: middle;\n",
       "    }\n",
       "\n",
       "    .dataframe tbody tr th {\n",
       "        vertical-align: top;\n",
       "    }\n",
       "\n",
       "    .dataframe thead th {\n",
       "        text-align: right;\n",
       "    }\n",
       "</style>\n",
       "<table border=\"1\" class=\"dataframe\">\n",
       "  <thead>\n",
       "    <tr style=\"text-align: right;\">\n",
       "      <th></th>\n",
       "      <th>log_10(mvir)</th>\n",
       "      <th>n(&gt;M)</th>\n",
       "    </tr>\n",
       "  </thead>\n",
       "  <tbody>\n",
       "    <tr>\n",
       "      <th>0</th>\n",
       "      <td>1.000000e+10</td>\n",
       "      <td>2.543783e-01</td>\n",
       "    </tr>\n",
       "    <tr>\n",
       "      <th>1</th>\n",
       "      <td>1.122018e+10</td>\n",
       "      <td>2.298566e-01</td>\n",
       "    </tr>\n",
       "    <tr>\n",
       "      <th>2</th>\n",
       "      <td>1.258925e+10</td>\n",
       "      <td>2.077056e-01</td>\n",
       "    </tr>\n",
       "    <tr>\n",
       "      <th>3</th>\n",
       "      <td>1.412538e+10</td>\n",
       "      <td>1.876949e-01</td>\n",
       "    </tr>\n",
       "    <tr>\n",
       "      <th>4</th>\n",
       "      <td>1.584893e+10</td>\n",
       "      <td>1.696162e-01</td>\n",
       "    </tr>\n",
       "    <tr>\n",
       "      <th>...</th>\n",
       "      <td>...</td>\n",
       "      <td>...</td>\n",
       "    </tr>\n",
       "    <tr>\n",
       "      <th>95</th>\n",
       "      <td>5.623413e+14</td>\n",
       "      <td>1.997294e-06</td>\n",
       "    </tr>\n",
       "    <tr>\n",
       "      <th>96</th>\n",
       "      <td>6.309573e+14</td>\n",
       "      <td>1.556080e-06</td>\n",
       "    </tr>\n",
       "    <tr>\n",
       "      <th>97</th>\n",
       "      <td>7.079458e+14</td>\n",
       "      <td>1.199768e-06</td>\n",
       "    </tr>\n",
       "    <tr>\n",
       "      <th>98</th>\n",
       "      <td>7.943282e+14</td>\n",
       "      <td>9.146886e-07</td>\n",
       "    </tr>\n",
       "    <tr>\n",
       "      <th>99</th>\n",
       "      <td>8.912509e+14</td>\n",
       "      <td>6.889011e-07</td>\n",
       "    </tr>\n",
       "  </tbody>\n",
       "</table>\n",
       "<p>100 rows × 2 columns</p>\n",
       "</div>"
      ],
      "text/plain": [
       "    log_10(mvir)         n(>M)\n",
       "0   1.000000e+10  2.543783e-01\n",
       "1   1.122018e+10  2.298566e-01\n",
       "2   1.258925e+10  2.077056e-01\n",
       "3   1.412538e+10  1.876949e-01\n",
       "4   1.584893e+10  1.696162e-01\n",
       "..           ...           ...\n",
       "95  5.623413e+14  1.997294e-06\n",
       "96  6.309573e+14  1.556080e-06\n",
       "97  7.079458e+14  1.199768e-06\n",
       "98  7.943282e+14  9.146886e-07\n",
       "99  8.912509e+14  6.889011e-07\n",
       "\n",
       "[100 rows x 2 columns]"
      ]
     },
     "execution_count": 3,
     "metadata": {},
     "output_type": "execute_result"
    }
   ],
   "source": [
    "dataset"
   ]
  },
  {
   "cell_type": "code",
   "execution_count": 4,
   "id": "b46fd151",
   "metadata": {},
   "outputs": [
    {
     "data": {
      "text/plain": [
       "<matplotlib.collections.PathCollection at 0x7fce59fb5030>"
      ]
     },
     "execution_count": 4,
     "metadata": {},
     "output_type": "execute_result"
    },
    {
     "data": {
      "image/png": "[encoded data removed]",
      "text/plain": [
       "<Figure size 432x288 with 1 Axes>"
      ]
     },
     "metadata": {
      "needs_background": "light"
     },
     "output_type": "display_data"
    }
   ],
   "source": [
    "plt.yscale('log')\n",
    "plt.xscale('log')\n",
    "\n",
    "plt.scatter(hmf_new['log_10(mvir)'], hmf_new['n(>M)'], c = 'purple')"
   ]
  },
  {
   "cell_type": "code",
   "execution_count": 5,
   "id": "ea605eee",
   "metadata": {},
   "outputs": [
    {
     "data": {
      "text/plain": [
       "<seaborn.axisgrid.PairGrid at 0x7fce57cfa920>"
      ]
     },
     "execution_count": 5,
     "metadata": {},
     "output_type": "execute_result"
    },
    {
     "data": {
      "image/png": "[encoded data removed]",
      "text/plain": [
       "<Figure size 360x360 with 6 Axes>"
      ]
     },
     "metadata": {
      "needs_background": "light"
     },
     "output_type": "display_data"
    }
   ],
   "source": [
    "sns.pairplot(dataset, diag_kind=\"kde\")\n",
    "\n",
    "# plt.savefig(\"DistHD.png\")\n",
    "\n"
   ]
  },
  {
   "cell_type": "code",
   "execution_count": 6,
   "id": "d890d217",
   "metadata": {},
   "outputs": [],
   "source": [
    "randomize = np.random.permutation(len(dataset.values))\n",
    "data = dataset.values[randomize]\n",
    "\n",
    "# Define a size for your train set \n",
    "split = 0.8\n",
    "ntrain = int(split * len(data))\n",
    "indx = [ntrain]\n",
    "train_set, test_set = np.split(data, indx)\n",
    "\n",
    "split = 0.5\n",
    "ntrain = int(split * len(test_set))\n",
    "indx = [ntrain]\n",
    "validation_set, test_test = np.split(test_set, indx)"
   ]
  },
  {
   "cell_type": "code",
   "execution_count": 7,
   "id": "cfa6b8b3",
   "metadata": {},
   "outputs": [],
   "source": [
    "X_train = train_set[:, :-1]\n",
    "y_train = train_set[:, -1]\n",
    "\n",
    "X_val = validation_set[:, :-1]\n",
    "y_val = validation_set[:, -1]\n",
    "\n",
    "X_test = test_set[:, :-1]\n",
    "y_test = test_set[:, -1]"
   ]
  },
  {
   "cell_type": "code",
   "execution_count": 8,
   "id": "9fd87837",
   "metadata": {},
   "outputs": [
    {
     "name": "stdout",
     "output_type": "stream",
     "text": [
      "(20, 1)\n",
      "(20,)\n"
     ]
    }
   ],
   "source": [
    "print(X_test.shape)\n",
    "print(y_test.shape)"
   ]
  },
  {
   "cell_type": "code",
   "execution_count": 9,
   "id": "93561142",
   "metadata": {},
   "outputs": [],
   "source": [
    "from sklearn.preprocessing import StandardScaler\n",
    "from sklearn.preprocessing import MinMaxScaler\n",
    "\n",
    "xscaler = StandardScaler()\n",
    "#xscaler =   MinMaxScaler()\n",
    "# scalerz = MinMaxScaler(feature_range=(-1,1))\n",
    "# fit scaler on data\n",
    "xscaler.fit(X_train)\n",
    "# apply transform\n",
    "X_train = xscaler.transform(X_train)\n",
    "X_val = xscaler.transform(X_val)\n",
    "X_test = xscaler.transform(X_test)"
   ]
  },
  {
   "cell_type": "code",
   "execution_count": 10,
   "id": "022a5124",
   "metadata": {},
   "outputs": [],
   "source": [
    "callbacks = [tf.keras.callbacks.EarlyStopping(monitor='val_loss', mode='min',\n",
    "                                   min_delta=0.0,\n",
    "                                   patience=50.0,\n",
    "                                   restore_best_weights=True)]"
   ]
  },
  {
   "cell_type": "code",
   "execution_count": 402,
   "id": "8eef00cb",
   "metadata": {},
   "outputs": [],
   "source": [
    "def ann_model(ninput=1, n_nodes1=100, n_nodes2=100, n_nodes3=100, dropout=0.5):\n",
    "    model = models.Sequential()\n",
    "    model.add(layers.Dense(n_nodes1,activation='relu',input_shape=(ninput,)))\n",
    "    model.add(layers.Dropout(dropout))\n",
    "    model.add(layers.Dense(n_nodes2,activation='relu'))\n",
    "    model.add(layers.Dropout(dropout))\n",
    "    model.add(layers.Dense(n_nodes3,activation='relu'))\n",
    "    model.add(layers.Dropout(dropout))\n",
    "    model.add(layers.Dense(1, activation='linear'))\n",
    "\n",
    "    model.compile(optimizer=optimizers.Adam(lr=1e-3),#RMSprop(lr=0.001),\n",
    "                        loss='mae',\n",
    "                        metrics=['mae', 'mse'])\n",
    "\n",
    "\n",
    "#     test1_model.summary()\n",
    "    return model"
   ]
  },
  {
   "cell_type": "code",
   "execution_count": 403,
   "id": "09477da6",
   "metadata": {},
   "outputs": [],
   "source": [
    "# dropout = grid_result.best_params_['dropout']\n",
    "dropout = 0.3\n",
    "# n_nodes1 = grid_result.best_params_['n_nodes1']\n",
    "n_nodes1 = 100\n",
    "# n_nodes2 = grid_result.best_params_['n_nodes2']\n",
    "n_nodes2 = 200\n",
    "# n_nodes3 = grid_result.best_params_['n_nodes3']\n",
    "n_nodes3 = 150"
   ]
  },
  {
   "cell_type": "code",
   "execution_count": 404,
   "id": "9e869f96",
   "metadata": {
    "scrolled": true
   },
   "outputs": [
    {
     "name": "stdout",
     "output_type": "stream",
     "text": [
      "Epoch 1/120\n"
     ]
    },
    {
     "name": "stderr",
     "output_type": "stream",
     "text": [
      "/home/jazhiel/anaconda3/envs/yt-env/lib/python3.10/site-packages/keras/optimizers/optimizer_v2/adam.py:114: UserWarning: The `lr` argument is deprecated, use `learning_rate` instead.\n",
      "  super().__init__(name, **kwargs)\n"
     ]
    },
    {
     "name": "stdout",
     "output_type": "stream",
     "text": [
      "16/16 [==============================] - 0s 9ms/step - loss: 0.0640 - mae: 0.0640 - mse: 0.0138 - val_loss: 0.0574 - val_mae: 0.0574 - val_mse: 0.0053\n",
      "Epoch 2/120\n",
      "16/16 [==============================] - 0s 3ms/step - loss: 0.0531 - mae: 0.0531 - mse: 0.0100 - val_loss: 0.0631 - val_mae: 0.0631 - val_mse: 0.0072\n",
      "Epoch 3/120\n",
      "16/16 [==============================] - 0s 3ms/step - loss: 0.0499 - mae: 0.0499 - mse: 0.0086 - val_loss: 0.0576 - val_mae: 0.0576 - val_mse: 0.0063\n",
      "Epoch 4/120\n",
      "16/16 [==============================] - 0s 3ms/step - loss: 0.0432 - mae: 0.0432 - mse: 0.0059 - val_loss: 0.0612 - val_mae: 0.0612 - val_mse: 0.0087\n",
      "Epoch 5/120\n",
      "16/16 [==============================] - 0s 3ms/step - loss: 0.0417 - mae: 0.0417 - mse: 0.0051 - val_loss: 0.0609 - val_mae: 0.0609 - val_mse: 0.0073\n",
      "Epoch 6/120\n",
      "16/16 [==============================] - 0s 3ms/step - loss: 0.0343 - mae: 0.0343 - mse: 0.0039 - val_loss: 0.0566 - val_mae: 0.0566 - val_mse: 0.0065\n",
      "Epoch 7/120\n",
      "16/16 [==============================] - 0s 3ms/step - loss: 0.0441 - mae: 0.0441 - mse: 0.0082 - val_loss: 0.0577 - val_mae: 0.0577 - val_mse: 0.0075\n",
      "Epoch 8/120\n",
      "16/16 [==============================] - 0s 3ms/step - loss: 0.0417 - mae: 0.0417 - mse: 0.0093 - val_loss: 0.0568 - val_mae: 0.0568 - val_mse: 0.0081\n",
      "Epoch 9/120\n",
      "16/16 [==============================] - 0s 4ms/step - loss: 0.0472 - mae: 0.0472 - mse: 0.0094 - val_loss: 0.0576 - val_mae: 0.0576 - val_mse: 0.0064\n",
      "Epoch 10/120\n",
      "16/16 [==============================] - 0s 3ms/step - loss: 0.0321 - mae: 0.0321 - mse: 0.0041 - val_loss: 0.0663 - val_mae: 0.0663 - val_mse: 0.0093\n",
      "Epoch 11/120\n",
      "16/16 [==============================] - 0s 4ms/step - loss: 0.0373 - mae: 0.0373 - mse: 0.0053 - val_loss: 0.0567 - val_mae: 0.0567 - val_mse: 0.0078\n",
      "Epoch 12/120\n",
      "16/16 [==============================] - 0s 3ms/step - loss: 0.0289 - mae: 0.0289 - mse: 0.0030 - val_loss: 0.0550 - val_mae: 0.0550 - val_mse: 0.0073\n",
      "Epoch 13/120\n",
      "16/16 [==============================] - 0s 3ms/step - loss: 0.0273 - mae: 0.0273 - mse: 0.0029 - val_loss: 0.0599 - val_mae: 0.0599 - val_mse: 0.0083\n",
      "Epoch 14/120\n",
      "16/16 [==============================] - 0s 3ms/step - loss: 0.0315 - mae: 0.0315 - mse: 0.0035 - val_loss: 0.0556 - val_mae: 0.0556 - val_mse: 0.0077\n",
      "Epoch 15/120\n",
      "16/16 [==============================] - 0s 3ms/step - loss: 0.0305 - mae: 0.0305 - mse: 0.0032 - val_loss: 0.0560 - val_mae: 0.0560 - val_mse: 0.0082\n",
      "Epoch 16/120\n",
      "16/16 [==============================] - 0s 3ms/step - loss: 0.0291 - mae: 0.0291 - mse: 0.0034 - val_loss: 0.0570 - val_mae: 0.0570 - val_mse: 0.0080\n",
      "Epoch 17/120\n",
      "16/16 [==============================] - 0s 3ms/step - loss: 0.0266 - mae: 0.0266 - mse: 0.0026 - val_loss: 0.0545 - val_mae: 0.0545 - val_mse: 0.0076\n",
      "Epoch 18/120\n",
      "16/16 [==============================] - 0s 3ms/step - loss: 0.0254 - mae: 0.0254 - mse: 0.0025 - val_loss: 0.0554 - val_mae: 0.0554 - val_mse: 0.0076\n",
      "Epoch 19/120\n",
      "16/16 [==============================] - 0s 3ms/step - loss: 0.0307 - mae: 0.0307 - mse: 0.0043 - val_loss: 0.0590 - val_mae: 0.0590 - val_mse: 0.0079\n",
      "Epoch 20/120\n",
      "16/16 [==============================] - 0s 3ms/step - loss: 0.0248 - mae: 0.0248 - mse: 0.0026 - val_loss: 0.0564 - val_mae: 0.0564 - val_mse: 0.0082\n",
      "Epoch 21/120\n",
      "16/16 [==============================] - 0s 4ms/step - loss: 0.0292 - mae: 0.0292 - mse: 0.0040 - val_loss: 0.0582 - val_mae: 0.0582 - val_mse: 0.0082\n",
      "Epoch 22/120\n",
      "16/16 [==============================] - 0s 3ms/step - loss: 0.0263 - mae: 0.0263 - mse: 0.0030 - val_loss: 0.0564 - val_mae: 0.0564 - val_mse: 0.0079\n",
      "Epoch 23/120\n",
      "16/16 [==============================] - 0s 3ms/step - loss: 0.0262 - mae: 0.0262 - mse: 0.0024 - val_loss: 0.0548 - val_mae: 0.0548 - val_mse: 0.0080\n",
      "Epoch 24/120\n",
      "16/16 [==============================] - 0s 3ms/step - loss: 0.0291 - mae: 0.0291 - mse: 0.0038 - val_loss: 0.0567 - val_mae: 0.0567 - val_mse: 0.0079\n",
      "Epoch 25/120\n",
      "16/16 [==============================] - 0s 3ms/step - loss: 0.0271 - mae: 0.0271 - mse: 0.0027 - val_loss: 0.0556 - val_mae: 0.0556 - val_mse: 0.0078\n",
      "Epoch 26/120\n",
      "16/16 [==============================] - 0s 3ms/step - loss: 0.0238 - mae: 0.0238 - mse: 0.0025 - val_loss: 0.0550 - val_mae: 0.0550 - val_mse: 0.0081\n",
      "Epoch 27/120\n",
      "16/16 [==============================] - 0s 3ms/step - loss: 0.0286 - mae: 0.0286 - mse: 0.0032 - val_loss: 0.0570 - val_mae: 0.0570 - val_mse: 0.0080\n",
      "Epoch 28/120\n",
      "16/16 [==============================] - 0s 3ms/step - loss: 0.0298 - mae: 0.0298 - mse: 0.0041 - val_loss: 0.0537 - val_mae: 0.0537 - val_mse: 0.0072\n",
      "Epoch 29/120\n",
      "16/16 [==============================] - 0s 4ms/step - loss: 0.0267 - mae: 0.0267 - mse: 0.0027 - val_loss: 0.0568 - val_mae: 0.0568 - val_mse: 0.0083\n",
      "Epoch 30/120\n",
      "16/16 [==============================] - 0s 3ms/step - loss: 0.0283 - mae: 0.0283 - mse: 0.0030 - val_loss: 0.0548 - val_mae: 0.0548 - val_mse: 0.0073\n",
      "Epoch 31/120\n",
      "16/16 [==============================] - 0s 3ms/step - loss: 0.0250 - mae: 0.0250 - mse: 0.0025 - val_loss: 0.0556 - val_mae: 0.0556 - val_mse: 0.0080\n",
      "Epoch 32/120\n",
      "16/16 [==============================] - 0s 3ms/step - loss: 0.0245 - mae: 0.0245 - mse: 0.0025 - val_loss: 0.0541 - val_mae: 0.0541 - val_mse: 0.0070\n",
      "Epoch 33/120\n",
      "16/16 [==============================] - 0s 3ms/step - loss: 0.0235 - mae: 0.0235 - mse: 0.0023 - val_loss: 0.0550 - val_mae: 0.0550 - val_mse: 0.0079\n",
      "Epoch 34/120\n",
      "16/16 [==============================] - 0s 3ms/step - loss: 0.0239 - mae: 0.0239 - mse: 0.0024 - val_loss: 0.0538 - val_mae: 0.0538 - val_mse: 0.0076\n",
      "Epoch 35/120\n",
      "16/16 [==============================] - 0s 3ms/step - loss: 0.0224 - mae: 0.0224 - mse: 0.0023 - val_loss: 0.0544 - val_mae: 0.0544 - val_mse: 0.0073\n",
      "Epoch 36/120\n",
      "16/16 [==============================] - 0s 3ms/step - loss: 0.0227 - mae: 0.0227 - mse: 0.0022 - val_loss: 0.0543 - val_mae: 0.0543 - val_mse: 0.0076\n",
      "Epoch 37/120\n",
      "16/16 [==============================] - 0s 3ms/step - loss: 0.0264 - mae: 0.0264 - mse: 0.0028 - val_loss: 0.0545 - val_mae: 0.0545 - val_mse: 0.0079\n",
      "Epoch 38/120\n",
      "16/16 [==============================] - 0s 3ms/step - loss: 0.0247 - mae: 0.0247 - mse: 0.0026 - val_loss: 0.0551 - val_mae: 0.0551 - val_mse: 0.0075\n",
      "Epoch 39/120\n",
      "16/16 [==============================] - 0s 3ms/step - loss: 0.0253 - mae: 0.0253 - mse: 0.0026 - val_loss: 0.0540 - val_mae: 0.0540 - val_mse: 0.0076\n",
      "Epoch 40/120\n",
      "16/16 [==============================] - 0s 4ms/step - loss: 0.0217 - mae: 0.0217 - mse: 0.0023 - val_loss: 0.0540 - val_mae: 0.0540 - val_mse: 0.0073\n",
      "Epoch 41/120\n",
      "16/16 [==============================] - 0s 3ms/step - loss: 0.0226 - mae: 0.0226 - mse: 0.0023 - val_loss: 0.0539 - val_mae: 0.0539 - val_mse: 0.0075\n",
      "Epoch 42/120\n",
      "16/16 [==============================] - 0s 3ms/step - loss: 0.0232 - mae: 0.0232 - mse: 0.0024 - val_loss: 0.0543 - val_mae: 0.0543 - val_mse: 0.0079\n",
      "Epoch 43/120\n",
      "16/16 [==============================] - 0s 3ms/step - loss: 0.0218 - mae: 0.0218 - mse: 0.0024 - val_loss: 0.0544 - val_mae: 0.0544 - val_mse: 0.0079\n",
      "Epoch 44/120\n",
      "16/16 [==============================] - 0s 3ms/step - loss: 0.0232 - mae: 0.0232 - mse: 0.0025 - val_loss: 0.0545 - val_mae: 0.0545 - val_mse: 0.0074\n",
      "Epoch 45/120\n",
      "16/16 [==============================] - 0s 3ms/step - loss: 0.0234 - mae: 0.0234 - mse: 0.0024 - val_loss: 0.0539 - val_mae: 0.0539 - val_mse: 0.0076\n",
      "Epoch 46/120\n",
      "16/16 [==============================] - 0s 3ms/step - loss: 0.0229 - mae: 0.0229 - mse: 0.0025 - val_loss: 0.0540 - val_mae: 0.0540 - val_mse: 0.0074\n",
      "Epoch 47/120\n",
      "16/16 [==============================] - 0s 3ms/step - loss: 0.0219 - mae: 0.0219 - mse: 0.0022 - val_loss: 0.0538 - val_mae: 0.0538 - val_mse: 0.0076\n",
      "Epoch 48/120\n",
      "16/16 [==============================] - 0s 3ms/step - loss: 0.0214 - mae: 0.0214 - mse: 0.0022 - val_loss: 0.0540 - val_mae: 0.0540 - val_mse: 0.0075\n",
      "Epoch 49/120\n",
      "16/16 [==============================] - 0s 3ms/step - loss: 0.0216 - mae: 0.0216 - mse: 0.0022 - val_loss: 0.0535 - val_mae: 0.0535 - val_mse: 0.0069\n",
      "Epoch 50/120\n",
      "16/16 [==============================] - 0s 3ms/step - loss: 0.0217 - mae: 0.0217 - mse: 0.0023 - val_loss: 0.0535 - val_mae: 0.0535 - val_mse: 0.0072\n",
      "Epoch 51/120\n",
      "16/16 [==============================] - 0s 3ms/step - loss: 0.0225 - mae: 0.0225 - mse: 0.0022 - val_loss: 0.0538 - val_mae: 0.0538 - val_mse: 0.0078\n",
      "Epoch 52/120\n",
      "16/16 [==============================] - 0s 3ms/step - loss: 0.0220 - mae: 0.0220 - mse: 0.0024 - val_loss: 0.0541 - val_mae: 0.0541 - val_mse: 0.0078\n",
      "Epoch 53/120\n",
      "16/16 [==============================] - 0s 3ms/step - loss: 0.0234 - mae: 0.0234 - mse: 0.0024 - val_loss: 0.0540 - val_mae: 0.0540 - val_mse: 0.0076\n",
      "Epoch 54/120\n",
      "16/16 [==============================] - 0s 3ms/step - loss: 0.0214 - mae: 0.0214 - mse: 0.0024 - val_loss: 0.0536 - val_mae: 0.0536 - val_mse: 0.0076\n",
      "Epoch 55/120\n",
      "16/16 [==============================] - 0s 3ms/step - loss: 0.0218 - mae: 0.0218 - mse: 0.0022 - val_loss: 0.0533 - val_mae: 0.0533 - val_mse: 0.0071\n",
      "Epoch 56/120\n",
      "16/16 [==============================] - 0s 3ms/step - loss: 0.0204 - mae: 0.0204 - mse: 0.0021 - val_loss: 0.0537 - val_mae: 0.0537 - val_mse: 0.0073\n",
      "Epoch 57/120\n",
      "16/16 [==============================] - 0s 4ms/step - loss: 0.0227 - mae: 0.0227 - mse: 0.0023 - val_loss: 0.0536 - val_mae: 0.0536 - val_mse: 0.0073\n",
      "Epoch 58/120\n",
      "16/16 [==============================] - 0s 3ms/step - loss: 0.0212 - mae: 0.0212 - mse: 0.0024 - val_loss: 0.0540 - val_mae: 0.0540 - val_mse: 0.0076\n",
      "Epoch 59/120\n",
      "16/16 [==============================] - 0s 3ms/step - loss: 0.0214 - mae: 0.0214 - mse: 0.0022 - val_loss: 0.0536 - val_mae: 0.0536 - val_mse: 0.0073\n",
      "Epoch 60/120\n",
      "16/16 [==============================] - 0s 3ms/step - loss: 0.0214 - mae: 0.0214 - mse: 0.0023 - val_loss: 0.0535 - val_mae: 0.0535 - val_mse: 0.0071\n",
      "Epoch 61/120\n",
      "16/16 [==============================] - 0s 3ms/step - loss: 0.0207 - mae: 0.0207 - mse: 0.0021 - val_loss: 0.0536 - val_mae: 0.0536 - val_mse: 0.0077\n",
      "Epoch 62/120\n",
      "16/16 [==============================] - 0s 3ms/step - loss: 0.0219 - mae: 0.0219 - mse: 0.0024 - val_loss: 0.0538 - val_mae: 0.0538 - val_mse: 0.0075\n",
      "Epoch 63/120\n",
      "16/16 [==============================] - 0s 3ms/step - loss: 0.0213 - mae: 0.0213 - mse: 0.0023 - val_loss: 0.0532 - val_mae: 0.0532 - val_mse: 0.0073\n",
      "Epoch 64/120\n",
      "16/16 [==============================] - 0s 4ms/step - loss: 0.0196 - mae: 0.0196 - mse: 0.0021 - val_loss: 0.0530 - val_mae: 0.0530 - val_mse: 0.0070\n",
      "Epoch 65/120\n",
      "16/16 [==============================] - 0s 3ms/step - loss: 0.0207 - mae: 0.0207 - mse: 0.0022 - val_loss: 0.0534 - val_mae: 0.0534 - val_mse: 0.0070\n",
      "Epoch 66/120\n",
      "16/16 [==============================] - 0s 3ms/step - loss: 0.0219 - mae: 0.0219 - mse: 0.0020 - val_loss: 0.0531 - val_mae: 0.0531 - val_mse: 0.0072\n",
      "Epoch 67/120\n",
      "16/16 [==============================] - 0s 3ms/step - loss: 0.0213 - mae: 0.0213 - mse: 0.0022 - val_loss: 0.0533 - val_mae: 0.0533 - val_mse: 0.0074\n",
      "Epoch 68/120\n",
      "16/16 [==============================] - 0s 3ms/step - loss: 0.0213 - mae: 0.0213 - mse: 0.0023 - val_loss: 0.0537 - val_mae: 0.0537 - val_mse: 0.0076\n",
      "Epoch 69/120\n",
      "16/16 [==============================] - 0s 4ms/step - loss: 0.0211 - mae: 0.0211 - mse: 0.0022 - val_loss: 0.0535 - val_mae: 0.0535 - val_mse: 0.0073\n",
      "Epoch 70/120\n",
      "16/16 [==============================] - 0s 3ms/step - loss: 0.0207 - mae: 0.0207 - mse: 0.0022 - val_loss: 0.0535 - val_mae: 0.0535 - val_mse: 0.0074\n",
      "Epoch 71/120\n",
      "16/16 [==============================] - 0s 3ms/step - loss: 0.0205 - mae: 0.0205 - mse: 0.0023 - val_loss: 0.0536 - val_mae: 0.0536 - val_mse: 0.0076\n",
      "Epoch 72/120\n",
      "16/16 [==============================] - 0s 3ms/step - loss: 0.0208 - mae: 0.0208 - mse: 0.0023 - val_loss: 0.0534 - val_mae: 0.0534 - val_mse: 0.0074\n",
      "Epoch 73/120\n",
      "16/16 [==============================] - 0s 3ms/step - loss: 0.0211 - mae: 0.0211 - mse: 0.0022 - val_loss: 0.0528 - val_mae: 0.0528 - val_mse: 0.0070\n",
      "Epoch 74/120\n",
      "16/16 [==============================] - 0s 3ms/step - loss: 0.0211 - mae: 0.0211 - mse: 0.0023 - val_loss: 0.0533 - val_mae: 0.0533 - val_mse: 0.0076\n",
      "Epoch 75/120\n",
      "16/16 [==============================] - 0s 3ms/step - loss: 0.0201 - mae: 0.0201 - mse: 0.0022 - val_loss: 0.0526 - val_mae: 0.0526 - val_mse: 0.0067\n",
      "Epoch 76/120\n",
      "16/16 [==============================] - 0s 3ms/step - loss: 0.0212 - mae: 0.0212 - mse: 0.0022 - val_loss: 0.0534 - val_mae: 0.0534 - val_mse: 0.0077\n",
      "Epoch 77/120\n",
      "16/16 [==============================] - 0s 3ms/step - loss: 0.0211 - mae: 0.0211 - mse: 0.0023 - val_loss: 0.0535 - val_mae: 0.0535 - val_mse: 0.0077\n",
      "Epoch 78/120\n",
      "16/16 [==============================] - 0s 3ms/step - loss: 0.0205 - mae: 0.0205 - mse: 0.0023 - val_loss: 0.0533 - val_mae: 0.0533 - val_mse: 0.0074\n",
      "Epoch 79/120\n",
      "16/16 [==============================] - 0s 3ms/step - loss: 0.0214 - mae: 0.0214 - mse: 0.0023 - val_loss: 0.0536 - val_mae: 0.0536 - val_mse: 0.0075\n",
      "Epoch 80/120\n",
      "16/16 [==============================] - 0s 4ms/step - loss: 0.0202 - mae: 0.0202 - mse: 0.0023 - val_loss: 0.0534 - val_mae: 0.0534 - val_mse: 0.0076\n",
      "Epoch 81/120\n",
      "16/16 [==============================] - 0s 4ms/step - loss: 0.0207 - mae: 0.0207 - mse: 0.0023 - val_loss: 0.0533 - val_mae: 0.0533 - val_mse: 0.0075\n",
      "Epoch 82/120\n",
      "16/16 [==============================] - 0s 3ms/step - loss: 0.0204 - mae: 0.0204 - mse: 0.0022 - val_loss: 0.0532 - val_mae: 0.0532 - val_mse: 0.0074\n",
      "Epoch 83/120\n",
      "16/16 [==============================] - 0s 3ms/step - loss: 0.0207 - mae: 0.0207 - mse: 0.0022 - val_loss: 0.0523 - val_mae: 0.0523 - val_mse: 0.0066\n",
      "Epoch 84/120\n",
      "16/16 [==============================] - 0s 3ms/step - loss: 0.0200 - mae: 0.0200 - mse: 0.0020 - val_loss: 0.0530 - val_mae: 0.0530 - val_mse: 0.0075\n",
      "Epoch 85/120\n",
      "16/16 [==============================] - 0s 3ms/step - loss: 0.0209 - mae: 0.0209 - mse: 0.0023 - val_loss: 0.0525 - val_mae: 0.0525 - val_mse: 0.0072\n",
      "Epoch 86/120\n",
      "16/16 [==============================] - 0s 3ms/step - loss: 0.0195 - mae: 0.0195 - mse: 0.0021 - val_loss: 0.0528 - val_mae: 0.0528 - val_mse: 0.0074\n",
      "Epoch 87/120\n",
      "16/16 [==============================] - 0s 3ms/step - loss: 0.0191 - mae: 0.0191 - mse: 0.0020 - val_loss: 0.0525 - val_mae: 0.0525 - val_mse: 0.0069\n",
      "Epoch 88/120\n",
      "16/16 [==============================] - 0s 4ms/step - loss: 0.0224 - mae: 0.0224 - mse: 0.0025 - val_loss: 0.0538 - val_mae: 0.0538 - val_mse: 0.0075\n",
      "Epoch 89/120\n",
      "16/16 [==============================] - 0s 3ms/step - loss: 0.0212 - mae: 0.0212 - mse: 0.0021 - val_loss: 0.0530 - val_mae: 0.0530 - val_mse: 0.0073\n",
      "Epoch 90/120\n",
      "16/16 [==============================] - 0s 3ms/step - loss: 0.0209 - mae: 0.0209 - mse: 0.0024 - val_loss: 0.0531 - val_mae: 0.0531 - val_mse: 0.0075\n",
      "Epoch 91/120\n",
      "16/16 [==============================] - 0s 3ms/step - loss: 0.0205 - mae: 0.0205 - mse: 0.0023 - val_loss: 0.0527 - val_mae: 0.0527 - val_mse: 0.0072\n",
      "Epoch 92/120\n",
      "16/16 [==============================] - 0s 4ms/step - loss: 0.0204 - mae: 0.0204 - mse: 0.0021 - val_loss: 0.0524 - val_mae: 0.0524 - val_mse: 0.0067\n",
      "Epoch 93/120\n",
      "16/16 [==============================] - 0s 3ms/step - loss: 0.0206 - mae: 0.0206 - mse: 0.0021 - val_loss: 0.0527 - val_mae: 0.0527 - val_mse: 0.0072\n",
      "Epoch 94/120\n",
      "16/16 [==============================] - 0s 4ms/step - loss: 0.0209 - mae: 0.0209 - mse: 0.0024 - val_loss: 0.0530 - val_mae: 0.0530 - val_mse: 0.0075\n",
      "Epoch 95/120\n",
      "16/16 [==============================] - 0s 3ms/step - loss: 0.0210 - mae: 0.0210 - mse: 0.0023 - val_loss: 0.0529 - val_mae: 0.0529 - val_mse: 0.0073\n",
      "Epoch 96/120\n",
      "16/16 [==============================] - 0s 3ms/step - loss: 0.0206 - mae: 0.0206 - mse: 0.0024 - val_loss: 0.0528 - val_mae: 0.0528 - val_mse: 0.0073\n",
      "Epoch 97/120\n",
      "16/16 [==============================] - 0s 3ms/step - loss: 0.0194 - mae: 0.0194 - mse: 0.0020 - val_loss: 0.0522 - val_mae: 0.0522 - val_mse: 0.0067\n",
      "Epoch 98/120\n",
      "16/16 [==============================] - 0s 3ms/step - loss: 0.0193 - mae: 0.0193 - mse: 0.0021 - val_loss: 0.0525 - val_mae: 0.0525 - val_mse: 0.0072\n",
      "Epoch 99/120\n",
      "16/16 [==============================] - 0s 3ms/step - loss: 0.0216 - mae: 0.0216 - mse: 0.0023 - val_loss: 0.0530 - val_mae: 0.0530 - val_mse: 0.0075\n",
      "Epoch 100/120\n",
      "16/16 [==============================] - 0s 3ms/step - loss: 0.0200 - mae: 0.0200 - mse: 0.0023 - val_loss: 0.0527 - val_mae: 0.0527 - val_mse: 0.0069\n",
      "Epoch 101/120\n",
      "16/16 [==============================] - 0s 3ms/step - loss: 0.0215 - mae: 0.0215 - mse: 0.0020 - val_loss: 0.0525 - val_mae: 0.0525 - val_mse: 0.0069\n",
      "Epoch 102/120\n",
      "16/16 [==============================] - 0s 4ms/step - loss: 0.0207 - mae: 0.0207 - mse: 0.0022 - val_loss: 0.0528 - val_mae: 0.0528 - val_mse: 0.0074\n",
      "Epoch 103/120\n",
      "16/16 [==============================] - 0s 4ms/step - loss: 0.0206 - mae: 0.0206 - mse: 0.0023 - val_loss: 0.0528 - val_mae: 0.0528 - val_mse: 0.0073\n",
      "Epoch 104/120\n",
      "16/16 [==============================] - 0s 3ms/step - loss: 0.0196 - mae: 0.0196 - mse: 0.0023 - val_loss: 0.0528 - val_mae: 0.0528 - val_mse: 0.0075\n",
      "Epoch 105/120\n",
      "16/16 [==============================] - 0s 3ms/step - loss: 0.0200 - mae: 0.0200 - mse: 0.0022 - val_loss: 0.0524 - val_mae: 0.0524 - val_mse: 0.0070\n",
      "Epoch 106/120\n",
      "16/16 [==============================] - 0s 3ms/step - loss: 0.0206 - mae: 0.0206 - mse: 0.0022 - val_loss: 0.0525 - val_mae: 0.0525 - val_mse: 0.0071\n",
      "Epoch 107/120\n",
      "16/16 [==============================] - 0s 3ms/step - loss: 0.0191 - mae: 0.0191 - mse: 0.0020 - val_loss: 0.0520 - val_mae: 0.0520 - val_mse: 0.0066\n",
      "Epoch 108/120\n",
      "16/16 [==============================] - 0s 3ms/step - loss: 0.0196 - mae: 0.0196 - mse: 0.0021 - val_loss: 0.0522 - val_mae: 0.0522 - val_mse: 0.0068\n",
      "Epoch 109/120\n",
      "16/16 [==============================] - 0s 3ms/step - loss: 0.0209 - mae: 0.0209 - mse: 0.0023 - val_loss: 0.0521 - val_mae: 0.0521 - val_mse: 0.0068\n",
      "Epoch 110/120\n",
      "16/16 [==============================] - 0s 3ms/step - loss: 0.0214 - mae: 0.0214 - mse: 0.0023 - val_loss: 0.0536 - val_mae: 0.0536 - val_mse: 0.0077\n",
      "Epoch 111/120\n",
      "16/16 [==============================] - 0s 3ms/step - loss: 0.0208 - mae: 0.0208 - mse: 0.0023 - val_loss: 0.0528 - val_mae: 0.0528 - val_mse: 0.0074\n",
      "Epoch 112/120\n",
      "16/16 [==============================] - 0s 3ms/step - loss: 0.0202 - mae: 0.0202 - mse: 0.0023 - val_loss: 0.0525 - val_mae: 0.0525 - val_mse: 0.0070\n",
      "Epoch 113/120\n",
      "16/16 [==============================] - 0s 3ms/step - loss: 0.0207 - mae: 0.0207 - mse: 0.0022 - val_loss: 0.0526 - val_mae: 0.0526 - val_mse: 0.0072\n",
      "Epoch 114/120\n",
      "16/16 [==============================] - 0s 3ms/step - loss: 0.0205 - mae: 0.0205 - mse: 0.0021 - val_loss: 0.0533 - val_mae: 0.0533 - val_mse: 0.0077\n",
      "Epoch 115/120\n",
      "16/16 [==============================] - 0s 4ms/step - loss: 0.0198 - mae: 0.0198 - mse: 0.0021 - val_loss: 0.0521 - val_mae: 0.0521 - val_mse: 0.0069\n",
      "Epoch 116/120\n",
      "16/16 [==============================] - 0s 3ms/step - loss: 0.0198 - mae: 0.0198 - mse: 0.0021 - val_loss: 0.0524 - val_mae: 0.0524 - val_mse: 0.0072\n",
      "Epoch 117/120\n",
      "16/16 [==============================] - 0s 3ms/step - loss: 0.0196 - mae: 0.0196 - mse: 0.0023 - val_loss: 0.0524 - val_mae: 0.0524 - val_mse: 0.0072\n",
      "Epoch 118/120\n",
      "16/16 [==============================] - 0s 3ms/step - loss: 0.0202 - mae: 0.0202 - mse: 0.0021 - val_loss: 0.0526 - val_mae: 0.0526 - val_mse: 0.0073\n",
      "Epoch 119/120\n",
      "16/16 [==============================] - 0s 3ms/step - loss: 0.0196 - mae: 0.0196 - mse: 0.0022 - val_loss: 0.0521 - val_mae: 0.0521 - val_mse: 0.0069\n",
      "Epoch 120/120\n",
      "16/16 [==============================] - 0s 3ms/step - loss: 0.0196 - mae: 0.0196 - mse: 0.0022 - val_loss: 0.0525 - val_mae: 0.0525 - val_mse: 0.0073\n"
     ]
    }
   ],
   "source": [
    "neural_model = ann_model(n_nodes1=n_nodes1, n_nodes2=n_nodes2, n_nodes3=n_nodes3,\n",
    "                        dropout=dropout)\n",
    "\n",
    "estop = tf.keras.callbacks.EarlyStopping(monitor='val_loss', \n",
    "                                         patience=100, \n",
    "                                         restore_best_weights=True)\n",
    "\n",
    "lrdecay = tf.keras.callbacks.ReduceLROnPlateau(monitor='val_loss', \n",
    "                                               patience=2)\n",
    "callbacks = [estop, lrdecay]\n",
    "\n",
    "neural_model_history = neural_model.fit(X_train,\n",
    "                                      y_train,\n",
    "                                      epochs=120,\n",
    "                                      batch_size=5,\n",
    "                                      validation_data=(X_val,y_val),\n",
    "                                      verbose=1)#, #callbacks=callbacks)\n",
    "\n"
   ]
  },
  {
   "cell_type": "code",
   "execution_count": 405,
   "id": "a26c436a",
   "metadata": {},
   "outputs": [
    {
     "data": {
      "text/plain": [
       "<matplotlib.legend.Legend at 0x7fcded614460>"
      ]
     },
     "execution_count": 405,
     "metadata": {},
     "output_type": "execute_result"
    },
    {
     "data": {
      "image/png": "[encoded data removed]",
      "text/plain": [
       "<Figure size 432x288 with 1 Axes>"
      ]
     },
     "metadata": {
      "needs_background": "light"
     },
     "output_type": "display_data"
    }
   ],
   "source": [
    "plt.plot(neural_model_history.history['mae'], color='r', )\n",
    "plt.plot(neural_model_history.history['val_mae'], color='g')\n",
    "\n",
    "\n",
    "plt.ylabel('Mean absolute error', fontsize=11)\n",
    "plt.xlabel('Epoch', fontsize=11)\n",
    "plt.legend(['training set', 'validation set'], loc='upper right', fontsize=12)\n"
   ]
  },
  {
   "cell_type": "code",
   "execution_count": 406,
   "id": "7e3733a3",
   "metadata": {},
   "outputs": [
    {
     "data": {
      "text/plain": [
       "<matplotlib.legend.Legend at 0x7fcded98f790>"
      ]
     },
     "execution_count": 406,
     "metadata": {},
     "output_type": "execute_result"
    },
    {
     "data": {
      "image/png": "[encoded data removed]",
      "text/plain": [
       "<Figure size 432x288 with 1 Axes>"
      ]
     },
     "metadata": {
      "needs_background": "light"
     },
     "output_type": "display_data"
    }
   ],
   "source": [
    "plt.plot(neural_model_history.history['mse'], color='r', )\n",
    "plt.plot(neural_model_history.history['val_mse'], color='g')\n",
    "\n",
    "\n",
    "plt.ylabel('Mean square error', fontsize=11)\n",
    "plt.xlabel('Epoch', fontsize=11)\n",
    "plt.legend(['training set', 'validation set'], loc='upper right', fontsize=12)\n"
   ]
  },
  {
   "cell_type": "code",
   "execution_count": 407,
   "id": "101fc567",
   "metadata": {},
   "outputs": [
    {
     "name": "stdout",
     "output_type": "stream",
     "text": [
      "1/1 [==============================] - 0s 44ms/step\n",
      "Traning and Testing on raw data, all features \n",
      "\n"
     ]
    }
   ],
   "source": [
    "ypred2 = neural_model.predict(X_test)\n",
    "#####\n",
    "print('Traning and Testing on raw data, all features \\n');\n",
    "#### Model accuracy\n",
    "\n",
    "# print(\"Accuracy:\", metrics.accuracy_score(y_test, ypred2))"
   ]
  },
  {
   "cell_type": "code",
   "execution_count": 408,
   "id": "23ebafce",
   "metadata": {},
   "outputs": [],
   "source": [
    "#zor and yor are the original velues for z and [Hz, err]\n",
    "x_test_or = xscaler.inverse_transform(X_test)\n",
    "# yor = scalery.inverse_transform(y)\n"
   ]
  },
  {
   "cell_type": "code",
   "execution_count": 409,
   "id": "c7a5952d",
   "metadata": {},
   "outputs": [
    {
     "data": {
      "text/plain": [
       "array([[1.12201845e+10],\n",
       "       [1.25892541e+10],\n",
       "       [1.99526231e+10],\n",
       "       [2.23872114e+10],\n",
       "       [3.54813389e+10],\n",
       "       [6.30957344e+10],\n",
       "       [6.30957344e+11],\n",
       "       [7.94328235e+11],\n",
       "       [1.77827941e+12],\n",
       "       [2.23872114e+12],\n",
       "       [3.16227766e+12],\n",
       "       [3.98107171e+12],\n",
       "       [4.46683592e+12],\n",
       "       [7.94328235e+12],\n",
       "       [1.41253754e+13],\n",
       "       [2.23872114e+13],\n",
       "       [3.54813389e+13],\n",
       "       [1.41253754e+14],\n",
       "       [3.54813389e+14],\n",
       "       [6.30957344e+14]])"
      ]
     },
     "execution_count": 409,
     "metadata": {},
     "output_type": "execute_result"
    }
   ],
   "source": [
    "x_test_sort = np.sort(x_test_or.T, axis = 1)\n",
    "x_test_sort.T"
   ]
  },
  {
   "cell_type": "code",
   "execution_count": 410,
   "id": "7c9d7ad2",
   "metadata": {},
   "outputs": [
    {
     "data": {
      "text/html": [
       "<div>\n",
       "<style scoped>\n",
       "    .dataframe tbody tr th:only-of-type {\n",
       "        vertical-align: middle;\n",
       "    }\n",
       "\n",
       "    .dataframe tbody tr th {\n",
       "        vertical-align: top;\n",
       "    }\n",
       "\n",
       "    .dataframe thead th {\n",
       "        text-align: right;\n",
       "    }\n",
       "</style>\n",
       "<table border=\"1\" class=\"dataframe\">\n",
       "  <thead>\n",
       "    <tr style=\"text-align: right;\">\n",
       "      <th></th>\n",
       "      <th>log_10(M200c)</th>\n",
       "      <th>counts</th>\n",
       "      <th>n(&gt;M)</th>\n",
       "    </tr>\n",
       "  </thead>\n",
       "  <tbody>\n",
       "    <tr>\n",
       "      <th>0</th>\n",
       "      <td>10.572196</td>\n",
       "      <td>773</td>\n",
       "      <td>0.028888</td>\n",
       "    </tr>\n",
       "    <tr>\n",
       "      <th>1</th>\n",
       "      <td>10.877562</td>\n",
       "      <td>717</td>\n",
       "      <td>0.022704</td>\n",
       "    </tr>\n",
       "    <tr>\n",
       "      <th>2</th>\n",
       "      <td>11.182927</td>\n",
       "      <td>689</td>\n",
       "      <td>0.016968</td>\n",
       "    </tr>\n",
       "    <tr>\n",
       "      <th>3</th>\n",
       "      <td>11.488293</td>\n",
       "      <td>625</td>\n",
       "      <td>0.011456</td>\n",
       "    </tr>\n",
       "    <tr>\n",
       "      <th>4</th>\n",
       "      <td>11.793659</td>\n",
       "      <td>372</td>\n",
       "      <td>0.006456</td>\n",
       "    </tr>\n",
       "    <tr>\n",
       "      <th>5</th>\n",
       "      <td>12.099025</td>\n",
       "      <td>221</td>\n",
       "      <td>0.003480</td>\n",
       "    </tr>\n",
       "    <tr>\n",
       "      <th>6</th>\n",
       "      <td>12.404391</td>\n",
       "      <td>107</td>\n",
       "      <td>0.001712</td>\n",
       "    </tr>\n",
       "    <tr>\n",
       "      <th>7</th>\n",
       "      <td>12.709756</td>\n",
       "      <td>46</td>\n",
       "      <td>0.000856</td>\n",
       "    </tr>\n",
       "    <tr>\n",
       "      <th>8</th>\n",
       "      <td>13.015122</td>\n",
       "      <td>35</td>\n",
       "      <td>0.000488</td>\n",
       "    </tr>\n",
       "    <tr>\n",
       "      <th>9</th>\n",
       "      <td>13.320488</td>\n",
       "      <td>12</td>\n",
       "      <td>0.000208</td>\n",
       "    </tr>\n",
       "    <tr>\n",
       "      <th>10</th>\n",
       "      <td>13.625854</td>\n",
       "      <td>12</td>\n",
       "      <td>0.000112</td>\n",
       "    </tr>\n",
       "    <tr>\n",
       "      <th>11</th>\n",
       "      <td>13.931220</td>\n",
       "      <td>2</td>\n",
       "      <td>0.000016</td>\n",
       "    </tr>\n",
       "  </tbody>\n",
       "</table>\n",
       "</div>"
      ],
      "text/plain": [
       "    log_10(M200c)  counts     n(>M)\n",
       "0       10.572196     773  0.028888\n",
       "1       10.877562     717  0.022704\n",
       "2       11.182927     689  0.016968\n",
       "3       11.488293     625  0.011456\n",
       "4       11.793659     372  0.006456\n",
       "5       12.099025     221  0.003480\n",
       "6       12.404391     107  0.001712\n",
       "7       12.709756      46  0.000856\n",
       "8       13.015122      35  0.000488\n",
       "9       13.320488      12  0.000208\n",
       "10      13.625854      12  0.000112\n",
       "11      13.931220       2  0.000016"
      ]
     },
     "execution_count": 410,
     "metadata": {},
     "output_type": "execute_result"
    }
   ],
   "source": [
    "lcdm = pd.read_csv('/home/jazhiel/ML_Notebooks/YT_ensayo/Rockstar/LCDM/lcdm_counts.dat')\n",
    "#lcdm = pd.read_csv('/home/jazhiel/Escritorio/YT_ensayo/Rockstar/LCDM/lcdm_counts.dat')\n",
    "#df.drop(['B', 'C'], axis=1)\n",
    "lcdm = lcdm.drop(['Unnamed: 0'], axis = 1)\n",
    "lcdm"
   ]
  },
  {
   "cell_type": "code",
   "execution_count": 411,
   "id": "10af1535",
   "metadata": {},
   "outputs": [
    {
     "data": {
      "text/plain": [
       "array([[ 0.0118127 ],\n",
       "       [ 0.01181095],\n",
       "       [ 0.01180154],\n",
       "       [ 0.01179842],\n",
       "       [ 0.01178168],\n",
       "       [ 0.01174636],\n",
       "       [ 0.01102023],\n",
       "       [ 0.01081132],\n",
       "       [ 0.00952624],\n",
       "       [ 0.00892224],\n",
       "       [ 0.00767939],\n",
       "       [ 0.00658234],\n",
       "       [ 0.00604809],\n",
       "       [ 0.00279929],\n",
       "       [-0.00029147],\n",
       "       [-0.0007595 ],\n",
       "       [-0.00078762],\n",
       "       [-0.00078801],\n",
       "       [-0.00079306],\n",
       "       [-0.00100362]], dtype=float32)"
      ]
     },
     "execution_count": 411,
     "metadata": {},
     "output_type": "execute_result"
    }
   ],
   "source": [
    "ypred2_sort = -np.sort(-ypred2.T, axis = -1)\n",
    "ypred2_sort.T"
   ]
  },
  {
   "cell_type": "code",
   "execution_count": 412,
   "id": "37ce3e13",
   "metadata": {},
   "outputs": [
    {
     "data": {
      "image/png": "[encoded data removed]",
      "text/plain": [
       "<Figure size 1000x700 with 1 Axes>"
      ]
     },
     "metadata": {
      "needs_background": "light"
     },
     "output_type": "display_data"
    }
   ],
   "source": [
    "\n",
    "\n",
    "plt.figure(figsize=(10, 7), dpi=100)\n",
    "\n",
    "plt.yscale('log')\n",
    "plt.xscale('log')\n",
    "\n",
    "plt.scatter(10**lcdm['log_10(M200c)'], lcdm['n(>M)'], c = 'purple')\n",
    "#plt.plot(10**lcdm['log_10(M200c)'], lcdm['n(>M)'], c = 'purple', linestyle = '--', linewidth = 2, label = '$\\Lambda$CDM simulation')\n",
    "plt.plot(10**lcdm['log_10(M200c)'], lcdm['n(>M)'], c = 'purple', linewidth=2, label='$\\Lambda$CDM simulation')\n",
    "\n",
    "\n",
    "#planck = np.loadtxt('/home/jazhiel/ML_Notebooks/YT_ensayo/Rockstar/LCDM/all_plots/mVector_PLANCK-SMT .txt')\n",
    "#plt.plot(planck[:,0], planck[:,8], 'g', label='Tinker (2008)', linewidth=2)\n",
    "\n",
    "profile = np.loadtxt('/home/jazhiel/ML_Notebooks/YT_ensayo/Rockstar/LCDM/all_plots/mVector_SIMULATION .txt')\n",
    "plt.plot(profile[:,0],profile[:,8],'r',label='Press-Schechter (1974) ',linewidth=2)\n",
    "#plt.legend(loc=0, prop={'size': 14})\n",
    "\n",
    "plt.scatter(x_test_sort.T,ypred2_sort.T)\n",
    "plt.plot(x_test_sort.T,ypred2_sort.T)\n",
    "#plt.scatter(x_test_sort.T,ypred2_sort.T[:,1])\n",
    "#plt.plot(x_test_sort.T,ypred2_sort.T[:,1])\n",
    "#plt.scatter(x_test_sort.T,ypred2_sort.T[:,2])\n",
    "#plt.plot(x_test_sort.T,ypred2_sort.T[:,2])\n",
    "#plt.scatter(x_test_sort.T,ypred2_sort.T[:,3])\n",
    "#plt.plot(x_test_sort.T,ypred2_sort.T[:,3])\n",
    "#plt.scatter(x_test_sort.T,ypred2_sort.T[:,4])\n",
    "#plt.plot(x_test_sort.T,ypred2_sort.T[:,4])\n",
    "\n",
    "\n",
    "plt.xlabel('$M_{vir}$ $[M_\\odot/h]$',fontsize=17)\n",
    "plt.ylabel('$n(>M)$  $[h^3 \\cdot Mpc^{-3}]$',fontsize=15)\n",
    "\n",
    "plt.xlim([3.e10,2.e14])\n",
    "plt.ylim([1.e-6,1.e-1])\n",
    "#plt.savefig('/home/jazhiel/Escritorio/Maestria/Machine_Learning/IMG_Tesis/HMF_SFDM_extended.png')\n",
    "plt.show()"
   ]
  },
  {
   "cell_type": "code",
   "execution_count": 401,
   "id": "2afd5f42",
   "metadata": {},
   "outputs": [
    {
     "data": {
      "text/plain": [
       "(1, 20)"
      ]
     },
     "execution_count": 401,
     "metadata": {},
     "output_type": "execute_result"
    }
   ],
   "source": [
    "x_test_sort.shape"
   ]
  },
  {
   "cell_type": "code",
   "execution_count": null,
   "id": "3ff2e75a",
   "metadata": {},
   "outputs": [],
   "source": [
    "ypred2_sort.shape"
   ]
  },
  {
   "cell_type": "code",
   "execution_count": null,
   "id": "c5517fdd",
   "metadata": {},
   "outputs": [],
   "source": []
  }
 ],
 "metadata": {
  "kernelspec": {
   "display_name": "Python 3 (ipykernel)",
   "language": "python",
   "name": "python3"
  },
  "language_info": {
   "codemirror_mode": {
    "name": "ipython",
    "version": 3
   },
   "file_extension": ".py",
   "mimetype": "text/x-python",
   "name": "python",
   "nbconvert_exporter": "python",
   "pygments_lexer": "ipython3",
   "version": "3.10.4"
  }
 },
 "nbformat": 4,
 "nbformat_minor": 5
}
